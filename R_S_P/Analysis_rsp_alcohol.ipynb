{
 "cells": [
  {
   "cell_type": "code",
   "execution_count": 53,
   "metadata": {},
   "outputs": [],
   "source": [
    "os.chdir('C:\\\\Users\\\\David\\\\Documents\\\\GitHub\\\\Retreat_2019\\\\R_S_P')"
   ]
  },
  {
   "cell_type": "code",
   "execution_count": 54,
   "metadata": {},
   "outputs": [],
   "source": [
    "#### Analysis rsp alcohol competition\n",
    "import pandas as pd\n",
    "import numpy as np\n",
    "import itertools\n",
    "import matplotlib.pyplot as plt\n",
    "import seaborn as sns\n",
    "from scipy import stats\n",
    "import os\n",
    "from statsmodels.formula.api import ols\n",
    "import scikit_posthocs as sp\n",
    "from function_randomness import randomness_sequence\n",
    "from function_randomness_old import randomness_old\n",
    "\n"
   ]
  },
  {
   "cell_type": "code",
   "execution_count": 61,
   "metadata": {},
   "outputs": [
    {
     "name": "stdout",
     "output_type": "stream",
     "text": [
      "0 0_yerko_Tiff.xlsx\n",
      "1 1 _Rocio_Heike.xlsx\n",
      "2 1_alba_david.xlsx\n",
      "3 1_Cris_Amanda.xlsx\n",
      "4 1_genis_jordi.xlsx\n",
      "5 1_jaime_vicky.xlsx\n",
      "6 1_lejla_anna.xlsx\n",
      "7 1_lluis_david.xlsx\n",
      "8 1_lluis_joao.xlsx\n",
      "9 1_lluis_klaus.xlsx\n",
      "10 1_pablo_jorge.xlsx\n",
      "11 2_anna_jordi.xlsx\n",
      "12 2_lluis_klaus.xlsx\n",
      "13 2_Pablo_Jaime.xlsx\n",
      "14 2_vicky_jorge.xlsx\n"
     ]
    }
   ],
   "source": [
    "os.chdir('C:\\\\Users\\\\David\\\\Documents\\\\GitHub\\\\Retreat_2019\\\\R_S_P\\\\results')\n",
    "os.listdir()\n",
    "\n",
    "for idx, file in enumerate(os.listdir()):\n",
    "    print(idx, file)"
   ]
  },
  {
   "cell_type": "markdown",
   "metadata": {},
   "source": [
    "### Load the files into one DataFrame"
   ]
  },
  {
   "cell_type": "code",
   "execution_count": 62,
   "metadata": {
    "scrolled": true
   },
   "outputs": [
    {
     "name": "stdout",
     "output_type": "stream",
     "text": [
      "Rep of 1, p_value = 0.42316208231774877\n",
      "Rep of 2, p_value = 0.29484953605473074\n",
      "Rep of 3, p_value = 0.5119085005056778\n",
      "Rep of 4, p_value = 0.22672627861373051\n",
      "Rep of 5, p_value = 0.5377000527825163\n",
      "No rep freq of 6\n",
      "No rep freq of 7\n",
      "No rep freq of 8\n",
      "No rep freq of 9\n",
      "No rep freq of 10\n",
      "No rep freq of 11\n",
      "No rep freq of 12\n",
      "No rep freq of 13\n",
      "No rep freq of 14\n",
      "No rep freq of 15\n",
      "No rep freq of 16\n",
      "No rep freq of 17\n",
      "No rep freq of 18\n",
      "No rep freq of 19\n",
      "No rep freq of 20\n",
      "No rep freq of 21\n",
      "No rep freq of 22\n",
      "No rep freq of 23\n",
      "No rep freq of 24\n",
      "Rep of 1, p_value = 0.7710515858035665\n",
      "Rep of 2, p_value = 0.9107387433944886\n",
      "Rep of 3, p_value = 0.6400088491139806\n",
      "Rep of 4, p_value = 0.516697136767786\n",
      "Rep of 5, p_value = 0.35115816373420167\n",
      "Rep of 6, p_value = 0.2886158806890441\n",
      "Rep of 7, p_value = 0.19601287626309463\n",
      "No rep freq of 8\n",
      "No rep freq of 9\n",
      "No rep freq of 10\n",
      "No rep freq of 11\n",
      "No rep freq of 12\n",
      "No rep freq of 13\n",
      "No rep freq of 14\n",
      "No rep freq of 15\n",
      "No rep freq of 16\n",
      "No rep freq of 17\n",
      "No rep freq of 18\n",
      "No rep freq of 19\n",
      "No rep freq of 20\n",
      "No rep freq of 21\n",
      "No rep freq of 22\n",
      "No rep freq of 23\n",
      "No rep freq of 24\n",
      "Rep of 1, p_value = 0.35345468195878016\n",
      "Rep of 2, p_value = 0.1605444107516871\n",
      "Rep of 3, p_value = 0.10634819509442685\n",
      "Rep of 4, p_value = 0.15867260934787802\n",
      "Rep of 5, p_value = 0.19883079513654944\n",
      "Rep of 6, p_value = 0.2886158806890441\n",
      "No rep freq of 7\n",
      "No rep freq of 8\n",
      "No rep freq of 9\n",
      "No rep freq of 10\n",
      "No rep freq of 11\n",
      "No rep freq of 12\n",
      "No rep freq of 13\n",
      "No rep freq of 14\n",
      "No rep freq of 15\n",
      "No rep freq of 16\n",
      "No rep freq of 17\n",
      "No rep freq of 18\n",
      "No rep freq of 19\n",
      "No rep freq of 20\n",
      "No rep freq of 21\n",
      "No rep freq of 22\n",
      "No rep freq of 23\n",
      "No rep freq of 24\n",
      "Rep of 1, p_value = 0.2952301669240142\n",
      "Rep of 2, p_value = 0.21965497046217658\n",
      "Rep of 3, p_value = 0.03194440015667312\n",
      "Rep of 4, p_value = 0.004652183461221722\n",
      "Rep of 5, p_value = 0.01515438713045082\n",
      "Rep of 6, p_value = 0.2886158806890441\n",
      "No rep freq of 7\n",
      "No rep freq of 8\n",
      "No rep freq of 9\n",
      "No rep freq of 10\n",
      "No rep freq of 11\n",
      "No rep freq of 12\n",
      "No rep freq of 13\n",
      "No rep freq of 14\n",
      "No rep freq of 15\n",
      "No rep freq of 16\n",
      "No rep freq of 17\n",
      "No rep freq of 18\n",
      "No rep freq of 19\n",
      "No rep freq of 20\n",
      "No rep freq of 21\n",
      "No rep freq of 22\n",
      "No rep freq of 23\n",
      "No rep freq of 24\n",
      "Rep of 1, p_value = 0.8693582353988059\n",
      "Rep of 2, p_value = 0.7377766193207353\n",
      "Rep of 3, p_value = 0.5759652485730646\n",
      "Rep of 4, p_value = 0.4093319747900925\n",
      "Rep of 5, p_value = 0.19883079513654944\n",
      "Rep of 6, p_value = 0.2886158806890441\n",
      "Rep of 7, p_value = 0.19601287626309463\n",
      "No rep freq of 8\n",
      "No rep freq of 9\n",
      "No rep freq of 10\n",
      "No rep freq of 11\n",
      "No rep freq of 12\n",
      "No rep freq of 13\n",
      "No rep freq of 14\n",
      "No rep freq of 15\n",
      "No rep freq of 16\n",
      "No rep freq of 17\n",
      "No rep freq of 18\n",
      "No rep freq of 19\n",
      "No rep freq of 20\n",
      "No rep freq of 21\n",
      "No rep freq of 22\n",
      "No rep freq of 23\n",
      "No rep freq of 24\n",
      "Rep of 1, p_value = 0.9801986733067553\n",
      "Rep of 2, p_value = 0.45775086917850094\n",
      "Rep of 3, p_value = 0.44943063907933867\n",
      "Rep of 4, p_value = 0.31102844638241645\n",
      "Rep of 5, p_value = 0.19883079513654944\n",
      "Rep of 6, p_value = 0.08394681136413518\n",
      "Rep of 7, p_value = 0.010366583798141227\n",
      "Rep of 8, p_value = 0.011504389391565983\n",
      "No rep freq of 9\n",
      "No rep freq of 10\n",
      "No rep freq of 11\n",
      "No rep freq of 12\n",
      "No rep freq of 13\n",
      "No rep freq of 14\n",
      "No rep freq of 15\n",
      "No rep freq of 16\n",
      "No rep freq of 17\n",
      "No rep freq of 18\n",
      "No rep freq of 19\n",
      "No rep freq of 20\n",
      "No rep freq of 21\n",
      "No rep freq of 22\n",
      "No rep freq of 23\n",
      "No rep freq of 24\n",
      "Rep of 1, p_value = 0.000315926805301556\n",
      "Rep of 2, p_value = 3.7308899462301375e-05\n",
      "Rep of 3, p_value = 1.345712250108012e-05\n",
      "Rep of 4, p_value = 0.008514283978097035\n",
      "Rep of 5, p_value = 0.5377000527825163\n",
      "Rep of 6, p_value = 0.6133788994731009\n",
      "No rep freq of 7\n",
      "No rep freq of 8\n",
      "No rep freq of 9\n",
      "No rep freq of 10\n",
      "No rep freq of 11\n",
      "No rep freq of 12\n",
      "No rep freq of 13\n",
      "No rep freq of 14\n",
      "No rep freq of 15\n",
      "No rep freq of 16\n",
      "No rep freq of 17\n",
      "No rep freq of 18\n",
      "No rep freq of 19\n",
      "No rep freq of 20\n",
      "No rep freq of 21\n",
      "No rep freq of 22\n",
      "No rep freq of 23\n",
      "No rep freq of 24\n",
      "Rep of 1, p_value = 0.7710515858035665\n",
      "Rep of 2, p_value = 0.0007482778933869014\n",
      "Rep of 3, p_value = 5.727328332360454e-08\n",
      "Rep of 4, p_value = 1.0072885403854554e-11\n",
      "Rep of 5, p_value = 4.157215986292655e-18\n",
      "Rep of 6, p_value = 1.1426470287448035e-15\n",
      "Rep of 7, p_value = 5.5273253760304524e-11\n",
      "Rep of 8, p_value = 0.011504389391565983\n",
      "No rep freq of 9\n",
      "No rep freq of 10\n",
      "No rep freq of 11\n",
      "No rep freq of 12\n",
      "No rep freq of 13\n",
      "No rep freq of 14\n",
      "No rep freq of 15\n",
      "No rep freq of 16\n",
      "No rep freq of 17\n",
      "No rep freq of 18\n",
      "No rep freq of 19\n",
      "No rep freq of 20\n",
      "No rep freq of 21\n",
      "No rep freq of 22\n",
      "No rep freq of 23\n",
      "No rep freq of 24\n",
      "Rep of 1, p_value = 0.2322362747297588\n",
      "Rep of 2, p_value = 0.14406669706167932\n",
      "Rep of 3, p_value = 0.03194440015667312\n",
      "Rep of 4, p_value = 0.015108050921887113\n",
      "Rep of 5, p_value = 0.015154387130450715\n",
      "Rep of 6, p_value = 0.08394681136413568\n",
      "Rep of 7, p_value = 0.19601287626309463\n",
      "No rep freq of 8\n",
      "No rep freq of 9\n",
      "No rep freq of 10\n",
      "No rep freq of 11\n",
      "No rep freq of 12\n",
      "No rep freq of 13\n",
      "No rep freq of 14\n",
      "No rep freq of 15\n",
      "No rep freq of 16\n",
      "No rep freq of 17\n",
      "No rep freq of 18\n",
      "No rep freq of 19\n",
      "No rep freq of 20\n",
      "No rep freq of 21\n",
      "No rep freq of 22\n",
      "No rep freq of 23\n",
      "No rep freq of 24\n",
      "Rep of 1, p_value = 0.26184566858032604\n",
      "Rep of 2, p_value = 0.5344323887920067\n",
      "Rep of 3, p_value = 0.44943063907933867\n",
      "Rep of 4, p_value = 0.40933197479009203\n",
      "Rep of 5, p_value = 0.5377000527825168\n",
      "Rep of 6, p_value = 0.6133788994731009\n",
      "No rep freq of 7\n",
      "No rep freq of 8\n",
      "No rep freq of 9\n",
      "No rep freq of 10\n",
      "No rep freq of 11\n",
      "No rep freq of 12\n",
      "No rep freq of 13\n",
      "No rep freq of 14\n",
      "No rep freq of 15\n",
      "No rep freq of 16\n",
      "No rep freq of 17\n",
      "No rep freq of 18\n",
      "No rep freq of 19\n",
      "No rep freq of 20\n",
      "No rep freq of 21\n",
      "No rep freq of 22\n",
      "No rep freq of 23\n",
      "No rep freq of 24\n",
      "Rep of 1, p_value = 0.06203850737735831\n",
      "Rep of 2, p_value = 0.02707469348270612\n",
      "Rep of 3, p_value = 0.0849851167379394\n",
      "Rep of 4, p_value = 0.31102844638241645\n",
      "Rep of 5, p_value = 0.9469115522957506\n",
      "No rep freq of 6\n",
      "No rep freq of 7\n",
      "No rep freq of 8\n",
      "No rep freq of 9\n",
      "No rep freq of 10\n",
      "No rep freq of 11\n",
      "No rep freq of 12\n",
      "No rep freq of 13\n",
      "No rep freq of 14\n",
      "No rep freq of 15\n",
      "No rep freq of 16\n",
      "No rep freq of 17\n",
      "No rep freq of 18\n",
      "No rep freq of 19\n",
      "No rep freq of 20\n",
      "No rep freq of 21\n",
      "No rep freq of 22\n",
      "No rep freq of 23\n",
      "No rep freq of 24\n",
      "Rep of 1, p_value = 0.9801986733067553\n",
      "Rep of 2, p_value = 0.9725683018056688\n",
      "Rep of 3, p_value = 0.5759652485730651\n",
      "Rep of 4, p_value = 0.40933197479009203\n",
      "Rep of 5, p_value = 0.09729647358045285\n",
      "Rep of 6, p_value = 0.28861588068904503\n",
      "No rep freq of 7\n",
      "No rep freq of 8\n",
      "No rep freq of 9\n",
      "No rep freq of 10\n",
      "No rep freq of 11\n",
      "No rep freq of 12\n",
      "No rep freq of 13\n",
      "No rep freq of 14\n",
      "No rep freq of 15\n",
      "No rep freq of 16\n",
      "No rep freq of 17\n",
      "No rep freq of 18\n",
      "No rep freq of 19\n",
      "No rep freq of 20\n",
      "No rep freq of 21\n",
      "No rep freq of 22\n",
      "No rep freq of 23\n",
      "No rep freq of 24\n",
      "Rep of 1, p_value = 0.26184566858032604\n",
      "Rep of 2, p_value = 0.5744845245263679\n",
      "Rep of 3, p_value = 0.6400088491139803\n",
      "Rep of 4, p_value = 0.5166971367677864\n",
      "Rep of 5, p_value = 0.35115816373420117\n",
      "Rep of 6, p_value = 0.6133788994731009\n",
      "No rep freq of 7\n",
      "No rep freq of 8\n",
      "No rep freq of 9\n",
      "No rep freq of 10\n",
      "No rep freq of 11\n",
      "No rep freq of 12\n",
      "No rep freq of 13\n",
      "No rep freq of 14\n",
      "No rep freq of 15\n",
      "No rep freq of 16\n",
      "No rep freq of 17\n",
      "No rep freq of 18\n",
      "No rep freq of 19\n",
      "No rep freq of 20\n",
      "No rep freq of 21\n",
      "No rep freq of 22\n",
      "No rep freq of 23\n",
      "No rep freq of 24\n",
      "Rep of 1, p_value = 0.9801986733067554\n",
      "Rep of 2, p_value = 0.7377766193207353\n",
      "Rep of 3, p_value = 0.38987901774061723\n",
      "Rep of 4, p_value = 0.40933197479009203\n",
      "Rep of 5, p_value = 0.09729647358045242\n",
      "Rep of 6, p_value = 0.001554161111481588\n",
      "Rep of 7, p_value = 1.627576136508548e-07\n",
      "Rep of 8, p_value = 1.2655224895235853e-13\n",
      "Rep of 9, p_value = 1.4476308695523107e-19\n",
      "Rep of 10, p_value = 2.0014625143798417e-16\n",
      "No rep freq of 11\n",
      "No rep freq of 12\n",
      "No rep freq of 13\n",
      "No rep freq of 14\n",
      "No rep freq of 15\n",
      "No rep freq of 16\n",
      "No rep freq of 17\n",
      "No rep freq of 18\n",
      "No rep freq of 19\n",
      "No rep freq of 20\n",
      "No rep freq of 21\n",
      "No rep freq of 22\n",
      "No rep freq of 23\n",
      "No rep freq of 24\n",
      "Rep of 1, p_value = 0.6838614092123559\n",
      "Rep of 2, p_value = 0.9845383752346837\n",
      "Rep of 3, p_value = 0.974610617729828\n",
      "Rep of 4, p_value = 0.8875819466744148\n",
      "Rep of 5, p_value = 0.8626474408637564\n",
      "No rep freq of 6\n",
      "No rep freq of 7\n",
      "No rep freq of 8\n",
      "No rep freq of 9\n",
      "No rep freq of 10\n",
      "No rep freq of 11\n",
      "No rep freq of 12\n",
      "No rep freq of 13\n",
      "No rep freq of 14\n",
      "No rep freq of 15\n",
      "No rep freq of 16\n",
      "No rep freq of 17\n",
      "No rep freq of 18\n",
      "No rep freq of 19\n",
      "No rep freq of 20\n",
      "No rep freq of 21\n",
      "No rep freq of 22\n",
      "No rep freq of 23\n",
      "No rep freq of 24\n",
      "Rep of 1, p_value = 0.4771139155210343\n",
      "Rep of 2, p_value = 0.49543186112116766\n",
      "Rep of 3, p_value = 0.38987901774061756\n",
      "Rep of 4, p_value = 0.10672727476930649\n",
      "Rep of 5, p_value = 0.09729647358045242\n",
      "Rep of 6, p_value = 0.2886158806890441\n",
      "No rep freq of 7\n",
      "No rep freq of 8\n",
      "No rep freq of 9\n",
      "No rep freq of 10\n",
      "No rep freq of 11\n",
      "No rep freq of 12\n",
      "No rep freq of 13\n",
      "No rep freq of 14\n",
      "No rep freq of 15\n",
      "No rep freq of 16\n",
      "No rep freq of 17\n",
      "No rep freq of 18\n",
      "No rep freq of 19\n",
      "No rep freq of 20\n",
      "No rep freq of 21\n",
      "No rep freq of 22\n",
      "No rep freq of 23\n",
      "No rep freq of 24\n"
     ]
    },
    {
     "name": "stdout",
     "output_type": "stream",
     "text": [
      "Rep of 1, p_value = 0.1274539698948208\n",
      "Rep of 2, p_value = 0.26790238945780553\n",
      "Rep of 3, p_value = 0.44943063907933867\n",
      "Rep of 4, p_value = 0.625906768016326\n",
      "Rep of 5, p_value = 0.35115816373420117\n",
      "Rep of 6, p_value = 0.08394681136413518\n",
      "Rep of 7, p_value = 0.19601287626309463\n",
      "No rep freq of 8\n",
      "No rep freq of 9\n",
      "No rep freq of 10\n",
      "No rep freq of 11\n",
      "No rep freq of 12\n",
      "No rep freq of 13\n",
      "No rep freq of 14\n",
      "No rep freq of 15\n",
      "No rep freq of 16\n",
      "No rep freq of 17\n",
      "No rep freq of 18\n",
      "No rep freq of 19\n",
      "No rep freq of 20\n",
      "No rep freq of 21\n",
      "No rep freq of 22\n",
      "No rep freq of 23\n",
      "No rep freq of 24\n",
      "Rep of 1, p_value = 0.05181891717272583\n",
      "Rep of 2, p_value = 0.09185707915973393\n",
      "Rep of 3, p_value = 0.38987901774061723\n",
      "Rep of 4, p_value = 0.8875819466744145\n",
      "Rep of 5, p_value = 0.8626474408637558\n",
      "No rep freq of 6\n",
      "No rep freq of 7\n",
      "No rep freq of 8\n",
      "No rep freq of 9\n",
      "No rep freq of 10\n",
      "No rep freq of 11\n",
      "No rep freq of 12\n",
      "No rep freq of 13\n",
      "No rep freq of 14\n",
      "No rep freq of 15\n",
      "No rep freq of 16\n",
      "No rep freq of 17\n",
      "No rep freq of 18\n",
      "No rep freq of 19\n",
      "No rep freq of 20\n",
      "No rep freq of 21\n",
      "No rep freq of 22\n",
      "No rep freq of 23\n",
      "No rep freq of 24\n",
      "Rep of 1, p_value = 0.261845668580326\n",
      "Rep of 2, p_value = 0.3544902885939134\n",
      "Rep of 3, p_value = 0.28343709377416\n",
      "Rep of 4, p_value = 0.31102844638241645\n",
      "Rep of 5, p_value = 0.5377000527825173\n",
      "Rep of 6, p_value = 0.28861588068904503\n",
      "Rep of 7, p_value = 0.19601287626309463\n",
      "No rep freq of 8\n",
      "No rep freq of 9\n",
      "No rep freq of 10\n",
      "No rep freq of 11\n",
      "No rep freq of 12\n",
      "No rep freq of 13\n",
      "No rep freq of 14\n",
      "No rep freq of 15\n",
      "No rep freq of 16\n",
      "No rep freq of 17\n",
      "No rep freq of 18\n",
      "No rep freq of 19\n",
      "No rep freq of 20\n",
      "No rep freq of 21\n",
      "No rep freq of 22\n",
      "No rep freq of 23\n",
      "No rep freq of 24\n",
      "Rep of 1, p_value = 0.23223627472975888\n",
      "Rep of 2, p_value = 0.023812287876500915\n",
      "Rep of 3, p_value = 1.948490595138469e-05\n",
      "Rep of 4, p_value = 4.6239193757821443e-07\n",
      "Rep of 5, p_value = 1.2807748831572683e-11\n",
      "Rep of 6, p_value = 1.142647028744804e-15\n",
      "Rep of 7, p_value = 7.631120348229387e-20\n",
      "Rep of 8, p_value = 1.2655224895235123e-13\n",
      "Rep of 9, p_value = 4.213725640354329e-06\n",
      "No rep freq of 10\n",
      "No rep freq of 11\n",
      "No rep freq of 12\n",
      "No rep freq of 13\n",
      "No rep freq of 14\n",
      "No rep freq of 15\n",
      "No rep freq of 16\n",
      "No rep freq of 17\n",
      "No rep freq of 18\n",
      "No rep freq of 19\n",
      "No rep freq of 20\n",
      "No rep freq of 21\n",
      "No rep freq of 22\n",
      "No rep freq of 23\n",
      "No rep freq of 24\n",
      "Rep of 1, p_value = 0.16202575093388077\n",
      "Rep of 2, p_value = 0.5344323887920068\n",
      "Rep of 3, p_value = 0.8146400742552602\n",
      "Rep of 4, p_value = 0.8175809283987288\n",
      "Rep of 5, p_value = 0.9469115522957506\n",
      "No rep freq of 6\n",
      "No rep freq of 7\n",
      "No rep freq of 8\n",
      "No rep freq of 9\n",
      "No rep freq of 10\n",
      "No rep freq of 11\n",
      "No rep freq of 12\n",
      "No rep freq of 13\n",
      "No rep freq of 14\n",
      "No rep freq of 15\n",
      "No rep freq of 16\n",
      "No rep freq of 17\n",
      "No rep freq of 18\n",
      "No rep freq of 19\n",
      "No rep freq of 20\n",
      "No rep freq of 21\n",
      "No rep freq of 22\n",
      "No rep freq of 23\n",
      "No rep freq of 24\n",
      "Rep of 1, p_value = 0.3753110988513995\n",
      "Rep of 2, p_value = 0.697381042417672\n",
      "Rep of 3, p_value = 0.0849851167379394\n",
      "Rep of 4, p_value = 0.015108050921887113\n",
      "Rep of 5, p_value = 0.04119889900091207\n",
      "Rep of 6, p_value = 0.014692242148318383\n",
      "Rep of 7, p_value = 9.603346818242137e-05\n",
      "Rep of 8, p_value = 6.791655594234727e-07\n",
      "Rep of 9, p_value = 4.213725640354329e-06\n",
      "No rep freq of 10\n",
      "No rep freq of 11\n",
      "No rep freq of 12\n",
      "No rep freq of 13\n",
      "No rep freq of 14\n",
      "No rep freq of 15\n",
      "No rep freq of 16\n",
      "No rep freq of 17\n",
      "No rep freq of 18\n",
      "No rep freq of 19\n",
      "No rep freq of 20\n",
      "No rep freq of 21\n",
      "No rep freq of 22\n",
      "No rep freq of 23\n",
      "No rep freq of 24\n",
      "Rep of 1, p_value = 0.9801986733067553\n",
      "Rep of 2, p_value = 0.5744845245263677\n",
      "Rep of 3, p_value = 0.44943063907933867\n",
      "Rep of 4, p_value = 0.06908668005874953\n",
      "Rep of 5, p_value = 0.015154387130450905\n",
      "Rep of 6, p_value = 0.014692242148318383\n",
      "Rep of 7, p_value = 0.010366583798141227\n",
      "No rep freq of 8\n",
      "No rep freq of 9\n",
      "No rep freq of 10\n",
      "No rep freq of 11\n",
      "No rep freq of 12\n",
      "No rep freq of 13\n",
      "No rep freq of 14\n",
      "No rep freq of 15\n",
      "No rep freq of 16\n",
      "No rep freq of 17\n",
      "No rep freq of 18\n",
      "No rep freq of 19\n",
      "No rep freq of 20\n",
      "No rep freq of 21\n",
      "No rep freq of 22\n",
      "No rep freq of 23\n",
      "No rep freq of 24\n",
      "Rep of 1, p_value = 0.35345468195878016\n",
      "Rep of 2, p_value = 0.21965497046217658\n",
      "Rep of 3, p_value = 0.28343709377416\n",
      "Rep of 4, p_value = 0.516697136767786\n",
      "Rep of 5, p_value = 0.19883079513654944\n",
      "Rep of 6, p_value = 0.08394681136413469\n",
      "Rep of 7, p_value = 0.1960128762630966\n",
      "No rep freq of 8\n",
      "No rep freq of 9\n",
      "No rep freq of 10\n",
      "No rep freq of 11\n",
      "No rep freq of 12\n",
      "No rep freq of 13\n",
      "No rep freq of 14\n",
      "No rep freq of 15\n",
      "No rep freq of 16\n",
      "No rep freq of 17\n",
      "No rep freq of 18\n",
      "No rep freq of 19\n",
      "No rep freq of 20\n",
      "No rep freq of 21\n",
      "No rep freq of 22\n",
      "No rep freq of 23\n",
      "No rep freq of 24\n",
      "Rep of 1, p_value = 0.7710515858035665\n",
      "Rep of 2, p_value = 0.5744845245263679\n",
      "Rep of 3, p_value = 0.3343031114804114\n",
      "Rep of 4, p_value = 0.516697136767786\n",
      "Rep of 5, p_value = 0.35115816373420117\n",
      "Rep of 6, p_value = 0.6133788994731009\n",
      "No rep freq of 7\n",
      "No rep freq of 8\n",
      "No rep freq of 9\n",
      "No rep freq of 10\n",
      "No rep freq of 11\n",
      "No rep freq of 12\n",
      "No rep freq of 13\n",
      "No rep freq of 14\n",
      "No rep freq of 15\n",
      "No rep freq of 16\n",
      "No rep freq of 17\n",
      "No rep freq of 18\n",
      "No rep freq of 19\n",
      "No rep freq of 20\n",
      "No rep freq of 21\n",
      "No rep freq of 22\n",
      "No rep freq of 23\n",
      "No rep freq of 24\n",
      "Rep of 1, p_value = 0.16202575093388077\n",
      "Rep of 2, p_value = 0.2679023894578056\n",
      "Rep of 3, p_value = 0.5119085005056776\n",
      "Rep of 4, p_value = 0.22672627861373051\n",
      "Rep of 5, p_value = 0.35115816373420217\n",
      "Rep of 6, p_value = 0.28861588068904503\n",
      "Rep of 7, p_value = 0.19601287626309463\n",
      "No rep freq of 8\n",
      "No rep freq of 9\n",
      "No rep freq of 10\n",
      "No rep freq of 11\n",
      "No rep freq of 12\n",
      "No rep freq of 13\n",
      "No rep freq of 14\n",
      "No rep freq of 15\n",
      "No rep freq of 16\n",
      "No rep freq of 17\n",
      "No rep freq of 18\n",
      "No rep freq of 19\n",
      "No rep freq of 20\n",
      "No rep freq of 21\n",
      "No rep freq of 22\n",
      "No rep freq of 23\n",
      "No rep freq of 24\n",
      "Rep of 1, p_value = 0.16202575093388077\n",
      "Rep of 2, p_value = 0.010809376717971013\n",
      "Rep of 3, p_value = 0.0059681018874702665\n",
      "Rep of 4, p_value = 0.10672727476930671\n",
      "Rep of 5, p_value = 0.19883079513654944\n",
      "Rep of 6, p_value = 0.08394681136413518\n",
      "Rep of 7, p_value = 0.19601287626309463\n",
      "No rep freq of 8\n",
      "No rep freq of 9\n",
      "No rep freq of 10\n",
      "No rep freq of 11\n",
      "No rep freq of 12\n",
      "No rep freq of 13\n",
      "No rep freq of 14\n",
      "No rep freq of 15\n",
      "No rep freq of 16\n",
      "No rep freq of 17\n",
      "No rep freq of 18\n",
      "No rep freq of 19\n",
      "No rep freq of 20\n",
      "No rep freq of 21\n",
      "No rep freq of 22\n",
      "No rep freq of 23\n",
      "No rep freq of 24\n",
      "Rep of 1, p_value = 0.26184566858032604\n",
      "Rep of 2, p_value = 0.03489436134533436\n",
      "Rep of 3, p_value = 0.0004684654362820439\n",
      "Rep of 4, p_value = 1.4180283693031265e-05\n",
      "Rep of 5, p_value = 6.433526039833599e-08\n",
      "Rep of 6, p_value = 1.104398930320338e-07\n",
      "Rep of 7, p_value = 5.5273253760304524e-11\n",
      "Rep of 8, p_value = 6.791655594234727e-07\n",
      "Rep of 9, p_value = 4.213725640354329e-06\n",
      "No rep freq of 10\n",
      "No rep freq of 11\n",
      "No rep freq of 12\n",
      "No rep freq of 13\n",
      "No rep freq of 14\n",
      "No rep freq of 15\n",
      "No rep freq of 16\n",
      "No rep freq of 17\n",
      "No rep freq of 18\n",
      "No rep freq of 19\n",
      "No rep freq of 20\n",
      "No rep freq of 21\n",
      "No rep freq of 22\n",
      "No rep freq of 23\n",
      "No rep freq of 24\n",
      "Rep of 1, p_value = 0.261845668580326\n",
      "Rep of 2, p_value = 0.45775086917850094\n",
      "Rep of 3, p_value = 0.28343709377415993\n",
      "Rep of 4, p_value = 0.31102844638241645\n",
      "Rep of 5, p_value = 0.19883079513654886\n",
      "Rep of 6, p_value = 0.6133788994731009\n",
      "No rep freq of 7\n",
      "No rep freq of 8\n",
      "No rep freq of 9\n",
      "No rep freq of 10\n",
      "No rep freq of 11\n",
      "No rep freq of 12\n",
      "No rep freq of 13\n",
      "No rep freq of 14\n",
      "No rep freq of 15\n",
      "No rep freq of 16\n",
      "No rep freq of 17\n",
      "No rep freq of 18\n",
      "No rep freq of 19\n",
      "No rep freq of 20\n",
      "No rep freq of 21\n",
      "No rep freq of 22\n",
      "No rep freq of 23\n",
      "No rep freq of 24\n",
      "Rep of 1, p_value = 0.6838614092123559\n",
      "Rep of 2, p_value = 0.8145155731009084\n",
      "Rep of 3, p_value = 0.6400088491139806\n",
      "Rep of 4, p_value = 0.625906768016326\n",
      "Rep of 5, p_value = 0.35115816373420217\n",
      "Rep of 6, p_value = 0.6133788994731009\n",
      "No rep freq of 7\n",
      "No rep freq of 8\n",
      "No rep freq of 9\n",
      "No rep freq of 10\n",
      "No rep freq of 11\n",
      "No rep freq of 12\n",
      "No rep freq of 13\n",
      "No rep freq of 14\n",
      "No rep freq of 15\n",
      "No rep freq of 16\n",
      "No rep freq of 17\n",
      "No rep freq of 18\n",
      "No rep freq of 19\n",
      "No rep freq of 20\n",
      "No rep freq of 21\n",
      "No rep freq of 22\n",
      "No rep freq of 23\n",
      "No rep freq of 24\n"
     ]
    },
    {
     "data": {
      "text/html": [
       "<div>\n",
       "<style scoped>\n",
       "    .dataframe tbody tr th:only-of-type {\n",
       "        vertical-align: middle;\n",
       "    }\n",
       "\n",
       "    .dataframe tbody tr th {\n",
       "        vertical-align: top;\n",
       "    }\n",
       "\n",
       "    .dataframe thead th {\n",
       "        text-align: right;\n",
       "    }\n",
       "</style>\n",
       "<table border=\"1\" class=\"dataframe\">\n",
       "  <thead>\n",
       "    <tr style=\"text-align: right;\">\n",
       "      <th></th>\n",
       "      <th>player1</th>\n",
       "      <th>player2</th>\n",
       "      <th>resp1</th>\n",
       "      <th>resp2</th>\n",
       "      <th>result</th>\n",
       "      <th>winner_round</th>\n",
       "      <th>b_p1</th>\n",
       "      <th>b_p2</th>\n",
       "      <th>repetition</th>\n",
       "      <th>p1_lik_1</th>\n",
       "      <th>...</th>\n",
       "      <th>p2_lik_21</th>\n",
       "      <th>p1_lik_22</th>\n",
       "      <th>p2_lik_22</th>\n",
       "      <th>p1_lik_23</th>\n",
       "      <th>p2_lik_23</th>\n",
       "      <th>p1_lik_24</th>\n",
       "      <th>p2_lik_24</th>\n",
       "      <th>rounds</th>\n",
       "      <th>randomness_p1</th>\n",
       "      <th>randomness_p2</th>\n",
       "    </tr>\n",
       "  </thead>\n",
       "  <tbody>\n",
       "    <tr>\n",
       "      <th>0</th>\n",
       "      <td>yerko</td>\n",
       "      <td>Tiff</td>\n",
       "      <td>p</td>\n",
       "      <td>r</td>\n",
       "      <td>yerko</td>\n",
       "      <td>yerko</td>\n",
       "      <td>3</td>\n",
       "      <td>3</td>\n",
       "      <td>0</td>\n",
       "      <td>0.000665</td>\n",
       "      <td>...</td>\n",
       "      <td>1.227084e-18</td>\n",
       "      <td>1.430363e-19</td>\n",
       "      <td>1.430363e-19</td>\n",
       "      <td>1.663665e-20</td>\n",
       "      <td>1.663665e-20</td>\n",
       "      <td>1.931154e-21</td>\n",
       "      <td>1.931154e-21</td>\n",
       "      <td>0</td>\n",
       "      <td>536.541</td>\n",
       "      <td>11308.999</td>\n",
       "    </tr>\n",
       "    <tr>\n",
       "      <th>1</th>\n",
       "      <td>yerko</td>\n",
       "      <td>Tiff</td>\n",
       "      <td>s</td>\n",
       "      <td>p</td>\n",
       "      <td>yerko</td>\n",
       "      <td>yerko</td>\n",
       "      <td>3</td>\n",
       "      <td>3</td>\n",
       "      <td>0</td>\n",
       "      <td>0.000665</td>\n",
       "      <td>...</td>\n",
       "      <td>1.227084e-18</td>\n",
       "      <td>1.430363e-19</td>\n",
       "      <td>1.430363e-19</td>\n",
       "      <td>1.663665e-20</td>\n",
       "      <td>1.663665e-20</td>\n",
       "      <td>1.931154e-21</td>\n",
       "      <td>1.931154e-21</td>\n",
       "      <td>0</td>\n",
       "      <td>536.541</td>\n",
       "      <td>11308.999</td>\n",
       "    </tr>\n",
       "    <tr>\n",
       "      <th>2</th>\n",
       "      <td>yerko</td>\n",
       "      <td>Tiff</td>\n",
       "      <td>s</td>\n",
       "      <td>r</td>\n",
       "      <td>Tiff</td>\n",
       "      <td>yerko</td>\n",
       "      <td>3</td>\n",
       "      <td>3</td>\n",
       "      <td>0</td>\n",
       "      <td>0.000665</td>\n",
       "      <td>...</td>\n",
       "      <td>1.227084e-18</td>\n",
       "      <td>1.430363e-19</td>\n",
       "      <td>1.430363e-19</td>\n",
       "      <td>1.663665e-20</td>\n",
       "      <td>1.663665e-20</td>\n",
       "      <td>1.931154e-21</td>\n",
       "      <td>1.931154e-21</td>\n",
       "      <td>0</td>\n",
       "      <td>536.541</td>\n",
       "      <td>11308.999</td>\n",
       "    </tr>\n",
       "    <tr>\n",
       "      <th>3</th>\n",
       "      <td>yerko</td>\n",
       "      <td>Tiff</td>\n",
       "      <td>p</td>\n",
       "      <td>s</td>\n",
       "      <td>Tiff</td>\n",
       "      <td>yerko</td>\n",
       "      <td>3</td>\n",
       "      <td>3</td>\n",
       "      <td>0</td>\n",
       "      <td>0.000665</td>\n",
       "      <td>...</td>\n",
       "      <td>1.227084e-18</td>\n",
       "      <td>1.430363e-19</td>\n",
       "      <td>1.430363e-19</td>\n",
       "      <td>1.663665e-20</td>\n",
       "      <td>1.663665e-20</td>\n",
       "      <td>1.931154e-21</td>\n",
       "      <td>1.931154e-21</td>\n",
       "      <td>0</td>\n",
       "      <td>536.541</td>\n",
       "      <td>11308.999</td>\n",
       "    </tr>\n",
       "    <tr>\n",
       "      <th>4</th>\n",
       "      <td>yerko</td>\n",
       "      <td>Tiff</td>\n",
       "      <td>s</td>\n",
       "      <td>p</td>\n",
       "      <td>yerko</td>\n",
       "      <td>yerko</td>\n",
       "      <td>3</td>\n",
       "      <td>3</td>\n",
       "      <td>0</td>\n",
       "      <td>0.000665</td>\n",
       "      <td>...</td>\n",
       "      <td>1.227084e-18</td>\n",
       "      <td>1.430363e-19</td>\n",
       "      <td>1.430363e-19</td>\n",
       "      <td>1.663665e-20</td>\n",
       "      <td>1.663665e-20</td>\n",
       "      <td>1.931154e-21</td>\n",
       "      <td>1.931154e-21</td>\n",
       "      <td>0</td>\n",
       "      <td>536.541</td>\n",
       "      <td>11308.999</td>\n",
       "    </tr>\n",
       "    <tr>\n",
       "      <th>5</th>\n",
       "      <td>yerko</td>\n",
       "      <td>Tiff</td>\n",
       "      <td>r</td>\n",
       "      <td>p</td>\n",
       "      <td>Tiff</td>\n",
       "      <td>yerko</td>\n",
       "      <td>3</td>\n",
       "      <td>3</td>\n",
       "      <td>0</td>\n",
       "      <td>0.000665</td>\n",
       "      <td>...</td>\n",
       "      <td>1.227084e-18</td>\n",
       "      <td>1.430363e-19</td>\n",
       "      <td>1.430363e-19</td>\n",
       "      <td>1.663665e-20</td>\n",
       "      <td>1.663665e-20</td>\n",
       "      <td>1.931154e-21</td>\n",
       "      <td>1.931154e-21</td>\n",
       "      <td>0</td>\n",
       "      <td>536.541</td>\n",
       "      <td>11308.999</td>\n",
       "    </tr>\n",
       "    <tr>\n",
       "      <th>6</th>\n",
       "      <td>yerko</td>\n",
       "      <td>Tiff</td>\n",
       "      <td>p</td>\n",
       "      <td>s</td>\n",
       "      <td>Tiff</td>\n",
       "      <td>yerko</td>\n",
       "      <td>3</td>\n",
       "      <td>3</td>\n",
       "      <td>0</td>\n",
       "      <td>0.000665</td>\n",
       "      <td>...</td>\n",
       "      <td>1.227084e-18</td>\n",
       "      <td>1.430363e-19</td>\n",
       "      <td>1.430363e-19</td>\n",
       "      <td>1.663665e-20</td>\n",
       "      <td>1.663665e-20</td>\n",
       "      <td>1.931154e-21</td>\n",
       "      <td>1.931154e-21</td>\n",
       "      <td>0</td>\n",
       "      <td>536.541</td>\n",
       "      <td>11308.999</td>\n",
       "    </tr>\n",
       "    <tr>\n",
       "      <th>7</th>\n",
       "      <td>yerko</td>\n",
       "      <td>Tiff</td>\n",
       "      <td>s</td>\n",
       "      <td>s</td>\n",
       "      <td>draw</td>\n",
       "      <td>yerko</td>\n",
       "      <td>3</td>\n",
       "      <td>3</td>\n",
       "      <td>0</td>\n",
       "      <td>0.000665</td>\n",
       "      <td>...</td>\n",
       "      <td>1.227084e-18</td>\n",
       "      <td>1.430363e-19</td>\n",
       "      <td>1.430363e-19</td>\n",
       "      <td>1.663665e-20</td>\n",
       "      <td>1.663665e-20</td>\n",
       "      <td>1.931154e-21</td>\n",
       "      <td>1.931154e-21</td>\n",
       "      <td>0</td>\n",
       "      <td>536.541</td>\n",
       "      <td>11308.999</td>\n",
       "    </tr>\n",
       "    <tr>\n",
       "      <th>8</th>\n",
       "      <td>yerko</td>\n",
       "      <td>Tiff</td>\n",
       "      <td>s</td>\n",
       "      <td>p</td>\n",
       "      <td>yerko</td>\n",
       "      <td>yerko</td>\n",
       "      <td>3</td>\n",
       "      <td>3</td>\n",
       "      <td>0</td>\n",
       "      <td>0.000665</td>\n",
       "      <td>...</td>\n",
       "      <td>1.227084e-18</td>\n",
       "      <td>1.430363e-19</td>\n",
       "      <td>1.430363e-19</td>\n",
       "      <td>1.663665e-20</td>\n",
       "      <td>1.663665e-20</td>\n",
       "      <td>1.931154e-21</td>\n",
       "      <td>1.931154e-21</td>\n",
       "      <td>0</td>\n",
       "      <td>536.541</td>\n",
       "      <td>11308.999</td>\n",
       "    </tr>\n",
       "    <tr>\n",
       "      <th>9</th>\n",
       "      <td>yerko</td>\n",
       "      <td>Tiff</td>\n",
       "      <td>s</td>\n",
       "      <td>r</td>\n",
       "      <td>Tiff</td>\n",
       "      <td>yerko</td>\n",
       "      <td>3</td>\n",
       "      <td>3</td>\n",
       "      <td>0</td>\n",
       "      <td>0.000665</td>\n",
       "      <td>...</td>\n",
       "      <td>1.227084e-18</td>\n",
       "      <td>1.430363e-19</td>\n",
       "      <td>1.430363e-19</td>\n",
       "      <td>1.663665e-20</td>\n",
       "      <td>1.663665e-20</td>\n",
       "      <td>1.931154e-21</td>\n",
       "      <td>1.931154e-21</td>\n",
       "      <td>0</td>\n",
       "      <td>536.541</td>\n",
       "      <td>11308.999</td>\n",
       "    </tr>\n",
       "  </tbody>\n",
       "</table>\n",
       "<p>10 rows × 60 columns</p>\n",
       "</div>"
      ],
      "text/plain": [
       "  player1 player2 resp1 resp2 result winner_round  b_p1  b_p2  repetition  \\\n",
       "0   yerko    Tiff     p     r  yerko        yerko     3     3           0   \n",
       "1   yerko    Tiff     s     p  yerko        yerko     3     3           0   \n",
       "2   yerko    Tiff     s     r   Tiff        yerko     3     3           0   \n",
       "3   yerko    Tiff     p     s   Tiff        yerko     3     3           0   \n",
       "4   yerko    Tiff     s     p  yerko        yerko     3     3           0   \n",
       "5   yerko    Tiff     r     p   Tiff        yerko     3     3           0   \n",
       "6   yerko    Tiff     p     s   Tiff        yerko     3     3           0   \n",
       "7   yerko    Tiff     s     s   draw        yerko     3     3           0   \n",
       "8   yerko    Tiff     s     p  yerko        yerko     3     3           0   \n",
       "9   yerko    Tiff     s     r   Tiff        yerko     3     3           0   \n",
       "\n",
       "   p1_lik_1      ...           p2_lik_21     p1_lik_22     p2_lik_22  \\\n",
       "0  0.000665      ...        1.227084e-18  1.430363e-19  1.430363e-19   \n",
       "1  0.000665      ...        1.227084e-18  1.430363e-19  1.430363e-19   \n",
       "2  0.000665      ...        1.227084e-18  1.430363e-19  1.430363e-19   \n",
       "3  0.000665      ...        1.227084e-18  1.430363e-19  1.430363e-19   \n",
       "4  0.000665      ...        1.227084e-18  1.430363e-19  1.430363e-19   \n",
       "5  0.000665      ...        1.227084e-18  1.430363e-19  1.430363e-19   \n",
       "6  0.000665      ...        1.227084e-18  1.430363e-19  1.430363e-19   \n",
       "7  0.000665      ...        1.227084e-18  1.430363e-19  1.430363e-19   \n",
       "8  0.000665      ...        1.227084e-18  1.430363e-19  1.430363e-19   \n",
       "9  0.000665      ...        1.227084e-18  1.430363e-19  1.430363e-19   \n",
       "\n",
       "      p1_lik_23     p2_lik_23     p1_lik_24     p2_lik_24  rounds  \\\n",
       "0  1.663665e-20  1.663665e-20  1.931154e-21  1.931154e-21       0   \n",
       "1  1.663665e-20  1.663665e-20  1.931154e-21  1.931154e-21       0   \n",
       "2  1.663665e-20  1.663665e-20  1.931154e-21  1.931154e-21       0   \n",
       "3  1.663665e-20  1.663665e-20  1.931154e-21  1.931154e-21       0   \n",
       "4  1.663665e-20  1.663665e-20  1.931154e-21  1.931154e-21       0   \n",
       "5  1.663665e-20  1.663665e-20  1.931154e-21  1.931154e-21       0   \n",
       "6  1.663665e-20  1.663665e-20  1.931154e-21  1.931154e-21       0   \n",
       "7  1.663665e-20  1.663665e-20  1.931154e-21  1.931154e-21       0   \n",
       "8  1.663665e-20  1.663665e-20  1.931154e-21  1.931154e-21       0   \n",
       "9  1.663665e-20  1.663665e-20  1.931154e-21  1.931154e-21       0   \n",
       "\n",
       "   randomness_p1  randomness_p2  \n",
       "0        536.541      11308.999  \n",
       "1        536.541      11308.999  \n",
       "2        536.541      11308.999  \n",
       "3        536.541      11308.999  \n",
       "4        536.541      11308.999  \n",
       "5        536.541      11308.999  \n",
       "6        536.541      11308.999  \n",
       "7        536.541      11308.999  \n",
       "8        536.541      11308.999  \n",
       "9        536.541      11308.999  \n",
       "\n",
       "[10 rows x 60 columns]"
      ]
     },
     "execution_count": 62,
     "metadata": {},
     "output_type": "execute_result"
    }
   ],
   "source": [
    "#root_save = os.getcwd() + '\\\\results\\\\' \n",
    "#os.chdir(root_save)\n",
    "\n",
    "os.listdir()\n",
    "\n",
    "frames = []\n",
    "for idx, file in enumerate(os.listdir()):\n",
    "    df_s = pd.read_excel(file)\n",
    "    df_s['rounds'] = idx\n",
    "    #randomness_p1 =  round(randomness_sequence(list(df_s['resp1'].values) )[0], 3) \n",
    "    #randomness_p2 =  round(randomness_sequence(list(df_s['resp2'].values) )[0], 3) \n",
    "    randomness_p1 =  round(randomness_old(list(df_s['resp1'].values) ), 3) \n",
    "    randomness_p2 =  round(randomness_old(list(df_s['resp2'].values) ), 3)     \n",
    "    df_s['randomness_p1']=randomness_p1\n",
    "    df_s['randomness_p2']=randomness_p2\n",
    "    frames.append(df_s)\n",
    "\n",
    "df = pd.concat(frames, ignore_index=True)\n",
    "df.head(10)\n"
   ]
  },
  {
   "cell_type": "markdown",
   "metadata": {},
   "source": [
    "### Correlation beer consumption and randomness ?"
   ]
  },
  {
   "cell_type": "code",
   "execution_count": 63,
   "metadata": {},
   "outputs": [
    {
     "data": {
      "text/plain": [
       "array([ 0,  1,  2,  3,  4,  5,  6,  7,  8,  9, 10, 11, 12, 13, 14],\n",
       "      dtype=int64)"
      ]
     },
     "execution_count": 63,
     "metadata": {},
     "output_type": "execute_result"
    }
   ],
   "source": [
    "df['rounds'].unique()"
   ]
  },
  {
   "cell_type": "code",
   "execution_count": 65,
   "metadata": {},
   "outputs": [
    {
     "name": "stderr",
     "output_type": "stream",
     "text": [
      "C:\\Users\\David\\Anaconda3\\envs\\python3\\lib\\site-packages\\scipy\\stats\\stats.py:1713: FutureWarning: Using a non-tuple sequence for multidimensional indexing is deprecated; use `arr[tuple(seq)]` instead of `arr[seq]`. In the future this will be interpreted as an array index, `arr[np.array(seq)]`, which will result either in an error or a different result.\n",
      "  return np.add.reduce(sorted[indexer] * weights, axis=axis) / sumval\n"
     ]
    },
    {
     "data": {
      "image/png": "[encoded data removed]",
      "text/plain": [
       "<Figure size 432x288 with 1 Axes>"
      ]
     },
     "metadata": {
      "needs_background": "light"
     },
     "output_type": "display_data"
    },
    {
     "name": "stdout",
     "output_type": "stream",
     "text": [
      "                            OLS Regression Results                            \n",
      "==============================================================================\n",
      "Dep. Variable:                   rand   R-squared:                       0.007\n",
      "Model:                            OLS   Adj. R-squared:                 -0.029\n",
      "Method:                 Least Squares   F-statistic:                    0.1946\n",
      "Date:                Tue, 12 Feb 2019   Prob (F-statistic):              0.662\n",
      "Time:                        17:27:50   Log-Likelihood:                -1589.4\n",
      "No. Observations:                  30   AIC:                             3183.\n",
      "Df Residuals:                      28   BIC:                             3186.\n",
      "Df Model:                           1                                         \n",
      "Covariance Type:            nonrobust                                         \n",
      "==============================================================================\n",
      "                 coef    std err          t      P>|t|      [0.025      0.975]\n",
      "------------------------------------------------------------------------------\n",
      "Intercept    8.25e+21   7.79e+21      1.059      0.299   -7.71e+21    2.42e+22\n",
      "beer       -8.422e+20   1.91e+21     -0.441      0.662   -4.75e+21    3.07e+21\n",
      "==============================================================================\n",
      "Omnibus:                       68.001   Durbin-Watson:                   2.081\n",
      "Prob(Omnibus):                  0.000   Jarque-Bera (JB):              733.969\n",
      "Skew:                           4.821   Prob(JB):                    4.18e-160\n",
      "Kurtosis:                      25.231   Cond. No.                         7.07\n",
      "==============================================================================\n",
      "\n",
      "Warnings:\n",
      "[1] Standard Errors assume that the covariance matrix of the errors is correctly specified.\n"
     ]
    }
   ],
   "source": [
    "\n",
    "beer_n = []\n",
    "r_value=[]\n",
    "winner=[]\n",
    "\n",
    "for r in df['rounds'].unique():\n",
    "    r_value.append(df.loc[df['rounds']==r,'randomness_p1'].iloc[0])\n",
    "    r_value.append(df.loc[df['rounds']==r, 'randomness_p2'].iloc[0])\n",
    "    beer_n.append(df.loc[df['rounds']==r, 'b_p1'].iloc[0])\n",
    "    beer_n.append(df.loc[df['rounds']==r, 'b_p2'].iloc[0])  \n",
    "\n",
    "\n",
    "\n",
    "df_b_r = pd.DataFrame({'beer': beer_n, 'rand': r_value})\n",
    "sns.regplot(df_b_r['beer'], df_b_r['rand'], ci=68, fit_reg=True)\n",
    "plt.title('Radomness with beer consumption')\n",
    "plt.xlabel('number of beers')\n",
    "plt.ylabel('Randomness index')\n",
    "plt.gca().spines['right'].set_visible(False)\n",
    "plt.gca().spines['top'].set_visible(False)\n",
    "plt.gca().get_xaxis().tick_bottom()\n",
    "plt.gca().get_yaxis().tick_left()\n",
    "plt.show()\n",
    "\n",
    "\n",
    "#ols\n",
    "mod = ols('rand ~ beer', data=df_b_r).fit()\n",
    "print(mod.summary())"
   ]
  },
  {
   "cell_type": "code",
   "execution_count": 66,
   "metadata": {},
   "outputs": [
    {
     "name": "stderr",
     "output_type": "stream",
     "text": [
      "C:\\Users\\David\\Anaconda3\\envs\\python3\\lib\\site-packages\\scipy\\stats\\stats.py:1713: FutureWarning: Using a non-tuple sequence for multidimensional indexing is deprecated; use `arr[tuple(seq)]` instead of `arr[seq]`. In the future this will be interpreted as an array index, `arr[np.array(seq)]`, which will result either in an error or a different result.\n",
      "  return np.add.reduce(sorted[indexer] * weights, axis=axis) / sumval\n"
     ]
    },
    {
     "data": {
      "image/png": "[encoded data removed]",
      "text/plain": [
       "<Figure size 432x288 with 1 Axes>"
      ]
     },
     "metadata": {
      "needs_background": "light"
     },
     "output_type": "display_data"
    },
    {
     "name": "stderr",
     "output_type": "stream",
     "text": [
      "C:\\Users\\David\\Anaconda3\\envs\\python3\\lib\\site-packages\\statsmodels\\stats\\stattools.py:72: ValueWarning: omni_normtest is not valid with less than 8 observations; 4 samples were given.\n",
      "  \"samples were given.\" % int(n), ValueWarning)\n"
     ]
    },
    {
     "name": "stdout",
     "output_type": "stream",
     "text": [
      "                            OLS Regression Results                            \n",
      "==============================================================================\n",
      "Dep. Variable:                   rand   R-squared:                       0.075\n",
      "Model:                            OLS   Adj. R-squared:                 -0.388\n",
      "Method:                 Least Squares   F-statistic:                    0.1614\n",
      "Date:                Tue, 12 Feb 2019   Prob (F-statistic):              0.727\n",
      "Time:                        17:27:50   Log-Likelihood:                -41.085\n",
      "No. Observations:                   4   AIC:                             86.17\n",
      "Df Residuals:                       2   BIC:                             84.94\n",
      "Df Model:                           1                                         \n",
      "Covariance Type:            nonrobust                                         \n",
      "==============================================================================\n",
      "                 coef    std err          t      P>|t|      [0.025      0.975]\n",
      "------------------------------------------------------------------------------\n",
      "Intercept  -2307.8563   2.48e+04     -0.093      0.934   -1.09e+05    1.04e+05\n",
      "beer        1776.2746   4420.838      0.402      0.727   -1.72e+04    2.08e+04\n",
      "==============================================================================\n",
      "Omnibus:                          nan   Durbin-Watson:                   1.996\n",
      "Prob(Omnibus):                    nan   Jarque-Bera (JB):                0.613\n",
      "Skew:                          -0.052   Prob(JB):                        0.736\n",
      "Kurtosis:                       1.086   Cond. No.                         29.0\n",
      "==============================================================================\n",
      "\n",
      "Warnings:\n",
      "[1] Standard Errors assume that the covariance matrix of the errors is correctly specified.\n"
     ]
    }
   ],
   "source": [
    "\n",
    "## lluis\n",
    "beer_n = []\n",
    "r_value=[]\n",
    "winner=[]\n",
    "\n",
    "df = df.loc[df['player1']=='lluis']\n",
    "for r in df['rounds'].unique():\n",
    "    r_value.append(df.loc[df['rounds']==r,'randomness_p1'].iloc[0])\n",
    "    #r_value.append(df.loc[df['rounds']==r, 'randomness_p2'].iloc[0])\n",
    "    beer_n.append(df.loc[df['rounds']==r, 'b_p1'].iloc[0])\n",
    "    #beer_n.append(df.loc[df['rounds']==r, 'b_p2'].iloc[0])  \n",
    "\n",
    "\n",
    "\n",
    "df_b_r = pd.DataFrame({'beer': beer_n, 'rand': r_value})\n",
    "sns.regplot(df_b_r['beer'], df_b_r['rand'], ci=68, fit_reg=True)\n",
    "plt.title('Radomness with beer consumption')\n",
    "plt.xlabel('number of beers')\n",
    "plt.ylabel('Randomness index')\n",
    "plt.gca().spines['right'].set_visible(False)\n",
    "plt.gca().spines['top'].set_visible(False)\n",
    "plt.gca().get_xaxis().tick_bottom()\n",
    "plt.gca().get_yaxis().tick_left()\n",
    "plt.show()\n",
    "\n",
    "\n",
    "#ols\n",
    "mod = ols('rand ~ beer', data=df_b_r).fit()\n",
    "print(mod.summary())"
   ]
  },
  {
   "cell_type": "code",
   "execution_count": 67,
   "metadata": {
    "scrolled": false
   },
   "outputs": [
    {
     "name": "stderr",
     "output_type": "stream",
     "text": [
      "C:\\Users\\David\\Anaconda3\\envs\\python3\\lib\\site-packages\\scipy\\stats\\stats.py:1713: FutureWarning: Using a non-tuple sequence for multidimensional indexing is deprecated; use `arr[tuple(seq)]` instead of `arr[seq]`. In the future this will be interpreted as an array index, `arr[np.array(seq)]`, which will result either in an error or a different result.\n",
      "  return np.add.reduce(sorted[indexer] * weights, axis=axis) / sumval\n"
     ]
    },
    {
     "data": {
      "image/png": "[encoded data removed]",
      "text/plain": [
       "<Figure size 432x288 with 1 Axes>"
      ]
     },
     "metadata": {
      "needs_background": "light"
     },
     "output_type": "display_data"
    },
    {
     "name": "stderr",
     "output_type": "stream",
     "text": [
      "C:\\Users\\David\\Anaconda3\\envs\\python3\\lib\\site-packages\\scipy\\stats\\stats.py:1394: UserWarning: kurtosistest only valid for n>=20 ... continuing anyway, n=8\n",
      "  \"anyway, n=%i\" % int(n))\n"
     ]
    },
    {
     "name": "stdout",
     "output_type": "stream",
     "text": [
      "                            OLS Regression Results                            \n",
      "==============================================================================\n",
      "Dep. Variable:                   rand   R-squared:                       0.234\n",
      "Model:                            OLS   Adj. R-squared:                  0.107\n",
      "Method:                 Least Squares   F-statistic:                     1.835\n",
      "Date:                Tue, 12 Feb 2019   Prob (F-statistic):              0.224\n",
      "Time:                        17:27:51   Log-Likelihood:                 47.759\n",
      "No. Observations:                   8   AIC:                            -91.52\n",
      "Df Residuals:                       6   BIC:                            -91.36\n",
      "Df Model:                           1                                         \n",
      "Covariance Type:            nonrobust                                         \n",
      "==============================================================================\n",
      "                 coef    std err          t      P>|t|      [0.025      0.975]\n",
      "------------------------------------------------------------------------------\n",
      "Intercept      0.0019      0.001      3.026      0.023       0.000       0.003\n",
      "beer          -0.0002      0.000     -1.355      0.224      -0.000       0.000\n",
      "==============================================================================\n",
      "Omnibus:                        0.632   Durbin-Watson:                   1.998\n",
      "Prob(Omnibus):                  0.729   Jarque-Bera (JB):                0.543\n",
      "Skew:                           0.282   Prob(JB):                        0.762\n",
      "Kurtosis:                       1.855   Cond. No.                         13.1\n",
      "==============================================================================\n",
      "\n",
      "Warnings:\n",
      "[1] Standard Errors assume that the covariance matrix of the errors is correctly specified.\n"
     ]
    },
    {
     "data": {
      "image/png": "[encoded data removed]",
      "text/plain": [
       "<Figure size 432x288 with 1 Axes>"
      ]
     },
     "metadata": {
      "needs_background": "light"
     },
     "output_type": "display_data"
    },
    {
     "name": "stderr",
     "output_type": "stream",
     "text": [
      "C:\\Users\\David\\Anaconda3\\envs\\python3\\lib\\site-packages\\scipy\\stats\\stats.py:1394: UserWarning: kurtosistest only valid for n>=20 ... continuing anyway, n=8\n",
      "  \"anyway, n=%i\" % int(n))\n"
     ]
    },
    {
     "name": "stdout",
     "output_type": "stream",
     "text": [
      "                            OLS Regression Results                            \n",
      "==============================================================================\n",
      "Dep. Variable:                   rand   R-squared:                       0.054\n",
      "Model:                            OLS   Adj. R-squared:                 -0.104\n",
      "Method:                 Least Squares   F-statistic:                    0.3402\n",
      "Date:                Tue, 12 Feb 2019   Prob (F-statistic):              0.581\n",
      "Time:                        17:27:51   Log-Likelihood:                 48.825\n",
      "No. Observations:                   8   AIC:                            -93.65\n",
      "Df Residuals:                       6   BIC:                            -93.49\n",
      "Df Model:                           1                                         \n",
      "Covariance Type:            nonrobust                                         \n",
      "==============================================================================\n",
      "                 coef    std err          t      P>|t|      [0.025      0.975]\n",
      "------------------------------------------------------------------------------\n",
      "Intercept      0.0014      0.001      2.543      0.044    5.34e-05       0.003\n",
      "beer       -6.454e-05      0.000     -0.583      0.581      -0.000       0.000\n",
      "==============================================================================\n",
      "Omnibus:                        0.696   Durbin-Watson:                   2.193\n",
      "Prob(Omnibus):                  0.706   Jarque-Bera (JB):                0.530\n",
      "Skew:                           0.497   Prob(JB):                        0.767\n",
      "Kurtosis:                       2.223   Cond. No.                         13.1\n",
      "==============================================================================\n",
      "\n",
      "Warnings:\n",
      "[1] Standard Errors assume that the covariance matrix of the errors is correctly specified.\n"
     ]
    },
    {
     "data": {
      "image/png": "[encoded data removed]",
      "text/plain": [
       "<Figure size 432x288 with 1 Axes>"
      ]
     },
     "metadata": {
      "needs_background": "light"
     },
     "output_type": "display_data"
    },
    {
     "name": "stderr",
     "output_type": "stream",
     "text": [
      "C:\\Users\\David\\Anaconda3\\envs\\python3\\lib\\site-packages\\scipy\\stats\\stats.py:1394: UserWarning: kurtosistest only valid for n>=20 ... continuing anyway, n=8\n",
      "  \"anyway, n=%i\" % int(n))\n"
     ]
    },
    {
     "name": "stdout",
     "output_type": "stream",
     "text": [
      "                            OLS Regression Results                            \n",
      "==============================================================================\n",
      "Dep. Variable:                   rand   R-squared:                       0.006\n",
      "Model:                            OLS   Adj. R-squared:                 -0.159\n",
      "Method:                 Least Squares   F-statistic:                   0.03914\n",
      "Date:                Tue, 12 Feb 2019   Prob (F-statistic):              0.850\n",
      "Time:                        17:27:51   Log-Likelihood:                 60.142\n",
      "No. Observations:                   8   AIC:                            -116.3\n",
      "Df Residuals:                       6   BIC:                            -116.1\n",
      "Df Model:                           1                                         \n",
      "Covariance Type:            nonrobust                                         \n",
      "==============================================================================\n",
      "                 coef    std err          t      P>|t|      [0.025      0.975]\n",
      "------------------------------------------------------------------------------\n",
      "Intercept      0.0009      0.000      6.998      0.000       0.001       0.001\n",
      "beer        -5.32e-06   2.69e-05     -0.198      0.850   -7.11e-05    6.05e-05\n",
      "==============================================================================\n",
      "Omnibus:                        0.079   Durbin-Watson:                   2.211\n",
      "Prob(Omnibus):                  0.961   Jarque-Bera (JB):                0.299\n",
      "Skew:                          -0.054   Prob(JB):                        0.861\n",
      "Kurtosis:                       2.058   Cond. No.                         13.1\n",
      "==============================================================================\n",
      "\n",
      "Warnings:\n",
      "[1] Standard Errors assume that the covariance matrix of the errors is correctly specified.\n"
     ]
    },
    {
     "data": {
      "image/png": "[encoded data removed]",
      "text/plain": [
       "<Figure size 432x288 with 1 Axes>"
      ]
     },
     "metadata": {
      "needs_background": "light"
     },
     "output_type": "display_data"
    },
    {
     "name": "stderr",
     "output_type": "stream",
     "text": [
      "C:\\Users\\David\\Anaconda3\\envs\\python3\\lib\\site-packages\\scipy\\stats\\stats.py:1394: UserWarning: kurtosistest only valid for n>=20 ... continuing anyway, n=8\n",
      "  \"anyway, n=%i\" % int(n))\n"
     ]
    },
    {
     "name": "stdout",
     "output_type": "stream",
     "text": [
      "                            OLS Regression Results                            \n",
      "==============================================================================\n",
      "Dep. Variable:                   rand   R-squared:                       0.012\n",
      "Model:                            OLS   Adj. R-squared:                 -0.153\n",
      "Method:                 Least Squares   F-statistic:                   0.07083\n",
      "Date:                Tue, 12 Feb 2019   Prob (F-statistic):              0.799\n",
      "Time:                        17:27:52   Log-Likelihood:                 81.330\n",
      "No. Observations:                   8   AIC:                            -158.7\n",
      "Df Residuals:                       6   BIC:                            -158.5\n",
      "Df Model:                           1                                         \n",
      "Covariance Type:            nonrobust                                         \n",
      "==============================================================================\n",
      "                 coef    std err          t      P>|t|      [0.025      0.975]\n",
      "------------------------------------------------------------------------------\n",
      "Intercept      0.0003   9.58e-06     32.854      0.000       0.000       0.000\n",
      "beer        5.064e-07    1.9e-06      0.266      0.799   -4.15e-06    5.16e-06\n",
      "==============================================================================\n",
      "Omnibus:                        2.497   Durbin-Watson:                   1.716\n",
      "Prob(Omnibus):                  0.287   Jarque-Bera (JB):                0.857\n",
      "Skew:                           0.203   Prob(JB):                        0.651\n",
      "Kurtosis:                       1.449   Cond. No.                         13.1\n",
      "==============================================================================\n",
      "\n",
      "Warnings:\n",
      "[1] Standard Errors assume that the covariance matrix of the errors is correctly specified.\n"
     ]
    },
    {
     "data": {
      "image/png": "[encoded data removed]",
      "text/plain": [
       "<Figure size 432x288 with 1 Axes>"
      ]
     },
     "metadata": {
      "needs_background": "light"
     },
     "output_type": "display_data"
    },
    {
     "name": "stderr",
     "output_type": "stream",
     "text": [
      "C:\\Users\\David\\Anaconda3\\envs\\python3\\lib\\site-packages\\scipy\\stats\\stats.py:1394: UserWarning: kurtosistest only valid for n>=20 ... continuing anyway, n=8\n",
      "  \"anyway, n=%i\" % int(n))\n"
     ]
    },
    {
     "name": "stdout",
     "output_type": "stream",
     "text": [
      "                            OLS Regression Results                            \n",
      "==============================================================================\n",
      "Dep. Variable:                   rand   R-squared:                       0.005\n",
      "Model:                            OLS   Adj. R-squared:                 -0.160\n",
      "Method:                 Least Squares   F-statistic:                   0.03221\n",
      "Date:                Tue, 12 Feb 2019   Prob (F-statistic):              0.863\n",
      "Time:                        17:27:52   Log-Likelihood:                 100.99\n",
      "No. Observations:                   8   AIC:                            -198.0\n",
      "Df Residuals:                       6   BIC:                            -197.8\n",
      "Df Model:                           1                                         \n",
      "Covariance Type:            nonrobust                                         \n",
      "==============================================================================\n",
      "                 coef    std err          t      P>|t|      [0.025      0.975]\n",
      "------------------------------------------------------------------------------\n",
      "Intercept   7.333e-05    8.2e-07     89.373      0.000    7.13e-05    7.53e-05\n",
      "beer       -2.923e-08   1.63e-07     -0.179      0.863   -4.28e-07    3.69e-07\n",
      "==============================================================================\n",
      "Omnibus:                        5.723   Durbin-Watson:                   1.948\n",
      "Prob(Omnibus):                  0.057   Jarque-Bera (JB):                1.802\n",
      "Skew:                           1.141   Prob(JB):                        0.406\n",
      "Kurtosis:                       3.445   Cond. No.                         13.1\n",
      "==============================================================================\n",
      "\n",
      "Warnings:\n",
      "[1] Standard Errors assume that the covariance matrix of the errors is correctly specified.\n"
     ]
    },
    {
     "data": {
      "image/png": "[encoded data removed]",
      "text/plain": [
       "<Figure size 432x288 with 1 Axes>"
      ]
     },
     "metadata": {
      "needs_background": "light"
     },
     "output_type": "display_data"
    },
    {
     "name": "stderr",
     "output_type": "stream",
     "text": [
      "C:\\Users\\David\\Anaconda3\\envs\\python3\\lib\\site-packages\\scipy\\stats\\stats.py:1394: UserWarning: kurtosistest only valid for n>=20 ... continuing anyway, n=8\n",
      "  \"anyway, n=%i\" % int(n))\n"
     ]
    },
    {
     "name": "stdout",
     "output_type": "stream",
     "text": [
      "                            OLS Regression Results                            \n",
      "==============================================================================\n",
      "Dep. Variable:                   rand   R-squared:                       0.064\n",
      "Model:                            OLS   Adj. R-squared:                 -0.092\n",
      "Method:                 Least Squares   F-statistic:                    0.4106\n",
      "Date:                Tue, 12 Feb 2019   Prob (F-statistic):              0.545\n",
      "Time:                        17:27:52   Log-Likelihood:                 119.51\n",
      "No. Observations:                   8   AIC:                            -235.0\n",
      "Df Residuals:                       6   BIC:                            -234.9\n",
      "Df Model:                           1                                         \n",
      "Covariance Type:            nonrobust                                         \n",
      "==============================================================================\n",
      "                 coef    std err          t      P>|t|      [0.025      0.975]\n",
      "------------------------------------------------------------------------------\n",
      "Intercept   1.386e-05   8.11e-08    170.829      0.000    1.37e-05    1.41e-05\n",
      "beer        1.032e-08   1.61e-08      0.641      0.545   -2.91e-08    4.97e-08\n",
      "==============================================================================\n",
      "Omnibus:                        2.565   Durbin-Watson:                   2.448\n",
      "Prob(Omnibus):                  0.277   Jarque-Bera (JB):                1.469\n",
      "Skew:                           0.962   Prob(JB):                        0.480\n",
      "Kurtosis:                       2.159   Cond. No.                         13.1\n",
      "==============================================================================\n",
      "\n",
      "Warnings:\n",
      "[1] Standard Errors assume that the covariance matrix of the errors is correctly specified.\n"
     ]
    },
    {
     "data": {
      "image/png": "[encoded data removed]",
      "text/plain": [
       "<Figure size 432x288 with 1 Axes>"
      ]
     },
     "metadata": {
      "needs_background": "light"
     },
     "output_type": "display_data"
    },
    {
     "name": "stderr",
     "output_type": "stream",
     "text": [
      "C:\\Users\\David\\Anaconda3\\envs\\python3\\lib\\site-packages\\scipy\\stats\\stats.py:1394: UserWarning: kurtosistest only valid for n>=20 ... continuing anyway, n=8\n",
      "  \"anyway, n=%i\" % int(n))\n",
      "C:\\Users\\David\\Anaconda3\\envs\\python3\\lib\\site-packages\\statsmodels\\regression\\linear_model.py:1543: RuntimeWarning: divide by zero encountered in double_scalars\n",
      "  return 1 - self.ssr/self.centered_tss\n"
     ]
    },
    {
     "name": "stdout",
     "output_type": "stream",
     "text": [
      "                            OLS Regression Results                            \n",
      "==============================================================================\n",
      "Dep. Variable:                   rand   R-squared:                        -inf\n",
      "Model:                            OLS   Adj. R-squared:                   -inf\n",
      "Method:                 Least Squares   F-statistic:                    -6.000\n",
      "Date:                Tue, 12 Feb 2019   Prob (F-statistic):               1.00\n",
      "Time:                        17:27:53   Log-Likelihood:                 379.58\n",
      "No. Observations:                   8   AIC:                            -755.2\n",
      "Df Residuals:                       6   BIC:                            -755.0\n",
      "Df Model:                           1                                         \n",
      "Covariance Type:            nonrobust                                         \n",
      "==============================================================================\n",
      "                 coef    std err          t      P>|t|      [0.025      0.975]\n",
      "------------------------------------------------------------------------------\n",
      "Intercept    2.35e-06   6.17e-22   3.81e+15      0.000    2.35e-06    2.35e-06\n",
      "beer       -1.257e-22   1.22e-22     -1.026      0.344   -4.25e-22    1.74e-22\n",
      "==============================================================================\n",
      "Omnibus:                        0.297   Durbin-Watson:                   0.500\n",
      "Prob(Omnibus):                  0.862   Jarque-Bera (JB):                0.340\n",
      "Skew:                          -0.324   Prob(JB):                        0.843\n",
      "Kurtosis:                       2.224   Cond. No.                         13.1\n",
      "==============================================================================\n",
      "\n",
      "Warnings:\n",
      "[1] Standard Errors assume that the covariance matrix of the errors is correctly specified.\n"
     ]
    },
    {
     "data": {
      "image/png": "[encoded data removed]",
      "text/plain": [
       "<Figure size 432x288 with 1 Axes>"
      ]
     },
     "metadata": {
      "needs_background": "light"
     },
     "output_type": "display_data"
    },
    {
     "name": "stderr",
     "output_type": "stream",
     "text": [
      "C:\\Users\\David\\Anaconda3\\envs\\python3\\lib\\site-packages\\scipy\\stats\\stats.py:1394: UserWarning: kurtosistest only valid for n>=20 ... continuing anyway, n=8\n",
      "  \"anyway, n=%i\" % int(n))\n"
     ]
    },
    {
     "name": "stdout",
     "output_type": "stream",
     "text": [
      "                            OLS Regression Results                            \n",
      "==============================================================================\n",
      "Dep. Variable:                   rand   R-squared:                        -inf\n",
      "Model:                            OLS   Adj. R-squared:                   -inf\n",
      "Method:                 Least Squares   F-statistic:                    -6.000\n",
      "Date:                Tue, 12 Feb 2019   Prob (F-statistic):               1.00\n",
      "Time:                        17:27:53   Log-Likelihood:                 396.22\n",
      "No. Observations:                   8   AIC:                            -788.4\n",
      "Df Residuals:                       6   BIC:                            -788.3\n",
      "Df Model:                           1                                         \n",
      "Covariance Type:            nonrobust                                         \n",
      "==============================================================================\n",
      "                 coef    std err          t      P>|t|      [0.025      0.975]\n",
      "------------------------------------------------------------------------------\n",
      "Intercept   3.721e-07   7.71e-23   4.82e+15      0.000    3.72e-07    3.72e-07\n",
      "beer       -1.572e-23   1.53e-23     -1.026      0.344   -5.32e-23    2.18e-23\n",
      "==============================================================================\n",
      "Omnibus:                        0.297   Durbin-Watson:                   0.500\n",
      "Prob(Omnibus):                  0.862   Jarque-Bera (JB):                0.340\n",
      "Skew:                          -0.324   Prob(JB):                        0.843\n",
      "Kurtosis:                       2.224   Cond. No.                         13.1\n",
      "==============================================================================\n",
      "\n",
      "Warnings:\n",
      "[1] Standard Errors assume that the covariance matrix of the errors is correctly specified.\n"
     ]
    },
    {
     "data": {
      "image/png": "[encoded data removed]",
      "text/plain": [
       "<Figure size 432x288 with 1 Axes>"
      ]
     },
     "metadata": {
      "needs_background": "light"
     },
     "output_type": "display_data"
    },
    {
     "name": "stderr",
     "output_type": "stream",
     "text": [
      "C:\\Users\\David\\Anaconda3\\envs\\python3\\lib\\site-packages\\scipy\\stats\\stats.py:1394: UserWarning: kurtosistest only valid for n>=20 ... continuing anyway, n=8\n",
      "  \"anyway, n=%i\" % int(n))\n"
     ]
    },
    {
     "name": "stdout",
     "output_type": "stream",
     "text": [
      "                            OLS Regression Results                            \n",
      "==============================================================================\n",
      "Dep. Variable:                   rand   R-squared:                        -inf\n",
      "Model:                            OLS   Adj. R-squared:                   -inf\n",
      "Method:                 Least Squares   F-statistic:                    -6.000\n",
      "Date:                Tue, 12 Feb 2019   Prob (F-statistic):               1.00\n",
      "Time:                        17:27:53   Log-Likelihood:                 408.90\n",
      "No. Observations:                   8   AIC:                            -813.8\n",
      "Df Residuals:                       6   BIC:                            -813.6\n",
      "Df Model:                           1                                         \n",
      "Covariance Type:            nonrobust                                         \n",
      "==============================================================================\n",
      "                 coef    std err          t      P>|t|      [0.025      0.975]\n",
      "------------------------------------------------------------------------------\n",
      "Intercept   5.613e-08   1.58e-23   3.55e+15      0.000    5.61e-08    5.61e-08\n",
      "beer       -3.205e-24   3.14e-24     -1.022      0.346   -1.09e-23    4.47e-24\n",
      "==============================================================================\n",
      "Omnibus:                        6.891   Durbin-Watson:                   0.372\n",
      "Prob(Omnibus):                  0.032   Jarque-Bera (JB):                2.080\n",
      "Skew:                          -1.191   Prob(JB):                        0.353\n",
      "Kurtosis:                       3.749   Cond. No.                         13.1\n",
      "==============================================================================\n",
      "\n",
      "Warnings:\n",
      "[1] Standard Errors assume that the covariance matrix of the errors is correctly specified.\n"
     ]
    },
    {
     "data": {
      "image/png": "[encoded data removed]",
      "text/plain": [
       "<Figure size 432x288 with 1 Axes>"
      ]
     },
     "metadata": {
      "needs_background": "light"
     },
     "output_type": "display_data"
    },
    {
     "name": "stderr",
     "output_type": "stream",
     "text": [
      "C:\\Users\\David\\Anaconda3\\envs\\python3\\lib\\site-packages\\scipy\\stats\\stats.py:1394: UserWarning: kurtosistest only valid for n>=20 ... continuing anyway, n=8\n",
      "  \"anyway, n=%i\" % int(n))\n"
     ]
    },
    {
     "name": "stdout",
     "output_type": "stream",
     "text": [
      "                            OLS Regression Results                            \n",
      "==============================================================================\n",
      "Dep. Variable:                   rand   R-squared:                        -inf\n",
      "Model:                            OLS   Adj. R-squared:                   -inf\n",
      "Method:                 Least Squares   F-statistic:                    -6.000\n",
      "Date:                Tue, 12 Feb 2019   Prob (F-statistic):               1.00\n",
      "Time:                        17:27:53   Log-Likelihood:                 425.82\n",
      "No. Observations:                   8   AIC:                            -847.6\n",
      "Df Residuals:                       6   BIC:                            -847.5\n",
      "Df Model:                           1                                         \n",
      "Covariance Type:            nonrobust                                         \n",
      "==============================================================================\n",
      "                 coef    std err          t      P>|t|      [0.025      0.975]\n",
      "------------------------------------------------------------------------------\n",
      "Intercept   8.079e-09   1.91e-24   4.24e+15      0.000    8.08e-09    8.08e-09\n",
      "beer       -4.136e-25   3.78e-25     -1.093      0.316   -1.34e-24    5.12e-25\n",
      "==============================================================================\n",
      "Omnibus:                        4.785   Durbin-Watson:                   0.600\n",
      "Prob(Omnibus):                  0.091   Jarque-Bera (JB):                0.333\n",
      "Skew:                           0.000   Prob(JB):                        0.846\n",
      "Kurtosis:                       4.000   Cond. No.                         13.1\n",
      "==============================================================================\n",
      "\n",
      "Warnings:\n",
      "[1] Standard Errors assume that the covariance matrix of the errors is correctly specified.\n"
     ]
    },
    {
     "data": {
      "image/png": "[encoded data removed]",
      "text/plain": [
       "<Figure size 432x288 with 1 Axes>"
      ]
     },
     "metadata": {
      "needs_background": "light"
     },
     "output_type": "display_data"
    },
    {
     "name": "stderr",
     "output_type": "stream",
     "text": [
      "C:\\Users\\David\\Anaconda3\\envs\\python3\\lib\\site-packages\\scipy\\stats\\stats.py:1394: UserWarning: kurtosistest only valid for n>=20 ... continuing anyway, n=8\n",
      "  \"anyway, n=%i\" % int(n))\n"
     ]
    },
    {
     "name": "stdout",
     "output_type": "stream",
     "text": [
      "                            OLS Regression Results                            \n",
      "==============================================================================\n",
      "Dep. Variable:                   rand   R-squared:                        -inf\n",
      "Model:                            OLS   Adj. R-squared:                   -inf\n",
      "Method:                 Least Squares   F-statistic:                    -6.000\n",
      "Date:                Tue, 12 Feb 2019   Prob (F-statistic):               1.00\n",
      "Time:                        17:27:54   Log-Likelihood:                 439.31\n",
      "No. Observations:                   8   AIC:                            -874.6\n",
      "Df Residuals:                       6   BIC:                            -874.5\n",
      "Df Model:                           1                                         \n",
      "Covariance Type:            nonrobust                                         \n",
      "==============================================================================\n",
      "                 coef    std err          t      P>|t|      [0.025      0.975]\n",
      "------------------------------------------------------------------------------\n",
      "Intercept    1.16e-09   3.53e-25   3.28e+15      0.000    1.16e-09    1.16e-09\n",
      "beer       -7.109e-26   7.01e-26     -1.014      0.350   -2.43e-25    1.01e-25\n",
      "==============================================================================\n",
      "Omnibus:                        3.629   Durbin-Watson:                   0.273\n",
      "Prob(Omnibus):                  0.163   Jarque-Bera (JB):                1.521\n",
      "Skew:                          -1.061   Prob(JB):                        0.467\n",
      "Kurtosis:                       2.750   Cond. No.                         13.1\n",
      "==============================================================================\n",
      "\n",
      "Warnings:\n",
      "[1] Standard Errors assume that the covariance matrix of the errors is correctly specified.\n"
     ]
    },
    {
     "data": {
      "image/png": "[encoded data removed]",
      "text/plain": [
       "<Figure size 432x288 with 1 Axes>"
      ]
     },
     "metadata": {
      "needs_background": "light"
     },
     "output_type": "display_data"
    },
    {
     "name": "stderr",
     "output_type": "stream",
     "text": [
      "C:\\Users\\David\\Anaconda3\\envs\\python3\\lib\\site-packages\\scipy\\stats\\stats.py:1394: UserWarning: kurtosistest only valid for n>=20 ... continuing anyway, n=8\n",
      "  \"anyway, n=%i\" % int(n))\n"
     ]
    },
    {
     "name": "stdout",
     "output_type": "stream",
     "text": [
      "                            OLS Regression Results                            \n",
      "==============================================================================\n",
      "Dep. Variable:                   rand   R-squared:                        -inf\n",
      "Model:                            OLS   Adj. R-squared:                   -inf\n",
      "Method:                 Least Squares   F-statistic:                    -6.000\n",
      "Date:                Tue, 12 Feb 2019   Prob (F-statistic):               1.00\n",
      "Time:                        17:27:54   Log-Likelihood:                 451.26\n",
      "No. Observations:                   8   AIC:                            -898.5\n",
      "Df Residuals:                       6   BIC:                            -898.4\n",
      "Df Model:                           1                                         \n",
      "Covariance Type:            nonrobust                                         \n",
      "==============================================================================\n",
      "                 coef    std err          t      P>|t|      [0.025      0.975]\n",
      "------------------------------------------------------------------------------\n",
      "Intercept   1.597e-10   7.93e-26   2.01e+15      0.000     1.6e-10     1.6e-10\n",
      "beer       -9.694e-27   1.57e-26     -0.615      0.561   -4.82e-26    2.88e-26\n",
      "==============================================================================\n",
      "Omnibus:                       10.839   Durbin-Watson:                   0.197\n",
      "Prob(Omnibus):                  0.004   Jarque-Bera (JB):                3.411\n",
      "Skew:                          -1.355   Prob(JB):                        0.182\n",
      "Kurtosis:                       4.700   Cond. No.                         13.1\n",
      "==============================================================================\n",
      "\n",
      "Warnings:\n",
      "[1] Standard Errors assume that the covariance matrix of the errors is correctly specified.\n"
     ]
    },
    {
     "data": {
      "image/png": "[encoded data removed]",
      "text/plain": [
       "<Figure size 432x288 with 1 Axes>"
      ]
     },
     "metadata": {
      "needs_background": "light"
     },
     "output_type": "display_data"
    },
    {
     "name": "stderr",
     "output_type": "stream",
     "text": [
      "C:\\Users\\David\\Anaconda3\\envs\\python3\\lib\\site-packages\\scipy\\stats\\stats.py:1394: UserWarning: kurtosistest only valid for n>=20 ... continuing anyway, n=8\n",
      "  \"anyway, n=%i\" % int(n))\n"
     ]
    },
    {
     "name": "stdout",
     "output_type": "stream",
     "text": [
      "                            OLS Regression Results                            \n",
      "==============================================================================\n",
      "Dep. Variable:                   rand   R-squared:                        -inf\n",
      "Model:                            OLS   Adj. R-squared:                   -inf\n",
      "Method:                 Least Squares   F-statistic:                    -6.000\n",
      "Date:                Tue, 12 Feb 2019   Prob (F-statistic):               1.00\n",
      "Time:                        17:27:54   Log-Likelihood:                 468.99\n",
      "No. Observations:                   8   AIC:                            -934.0\n",
      "Df Residuals:                       6   BIC:                            -933.8\n",
      "Df Model:                           1                                         \n",
      "Covariance Type:            nonrobust                                         \n",
      "==============================================================================\n",
      "                 coef    std err          t      P>|t|      [0.025      0.975]\n",
      "------------------------------------------------------------------------------\n",
      "Intercept   2.162e-11   8.65e-27    2.5e+15      0.000    2.16e-11    2.16e-11\n",
      "beer        -1.01e-27   1.72e-27     -0.588      0.578   -5.21e-27    3.19e-27\n",
      "==============================================================================\n",
      "Omnibus:                        3.629   Durbin-Watson:                   0.111\n",
      "Prob(Omnibus):                  0.163   Jarque-Bera (JB):                1.521\n",
      "Skew:                          -1.061   Prob(JB):                        0.467\n",
      "Kurtosis:                       2.750   Cond. No.                         13.1\n",
      "==============================================================================\n",
      "\n",
      "Warnings:\n",
      "[1] Standard Errors assume that the covariance matrix of the errors is correctly specified.\n"
     ]
    },
    {
     "data": {
      "image/png": "[encoded data removed]",
      "text/plain": [
       "<Figure size 432x288 with 1 Axes>"
      ]
     },
     "metadata": {
      "needs_background": "light"
     },
     "output_type": "display_data"
    },
    {
     "name": "stderr",
     "output_type": "stream",
     "text": [
      "C:\\Users\\David\\Anaconda3\\envs\\python3\\lib\\site-packages\\scipy\\stats\\stats.py:1394: UserWarning: kurtosistest only valid for n>=20 ... continuing anyway, n=8\n",
      "  \"anyway, n=%i\" % int(n))\n"
     ]
    },
    {
     "name": "stdout",
     "output_type": "stream",
     "text": [
      "                            OLS Regression Results                            \n",
      "==============================================================================\n",
      "Dep. Variable:                   rand   R-squared:                        -inf\n",
      "Model:                            OLS   Adj. R-squared:                   -inf\n",
      "Method:                 Least Squares   F-statistic:                    -6.000\n",
      "Date:                Tue, 12 Feb 2019   Prob (F-statistic):               1.00\n",
      "Time:                        17:27:55   Log-Likelihood:                 484.53\n",
      "No. Observations:                   8   AIC:                            -965.1\n",
      "Df Residuals:                       6   BIC:                            -964.9\n",
      "Df Model:                           1                                         \n",
      "Covariance Type:            nonrobust                                         \n",
      "==============================================================================\n",
      "                 coef    std err          t      P>|t|      [0.025      0.975]\n",
      "------------------------------------------------------------------------------\n",
      "Intercept   2.981e-12   1.24e-27    2.4e+15      0.000    2.98e-12    2.98e-12\n",
      "beer       -1.641e-28   2.46e-28     -0.667      0.530   -7.66e-28    4.38e-28\n",
      "==============================================================================\n",
      "Omnibus:                       10.839   Durbin-Watson:                   0.197\n",
      "Prob(Omnibus):                  0.004   Jarque-Bera (JB):                3.411\n",
      "Skew:                          -1.355   Prob(JB):                        0.182\n",
      "Kurtosis:                       4.700   Cond. No.                         13.1\n",
      "==============================================================================\n",
      "\n",
      "Warnings:\n",
      "[1] Standard Errors assume that the covariance matrix of the errors is correctly specified.\n"
     ]
    },
    {
     "data": {
      "image/png": "[encoded data removed]",
      "text/plain": [
       "<Figure size 432x288 with 1 Axes>"
      ]
     },
     "metadata": {
      "needs_background": "light"
     },
     "output_type": "display_data"
    },
    {
     "name": "stderr",
     "output_type": "stream",
     "text": [
      "C:\\Users\\David\\Anaconda3\\envs\\python3\\lib\\site-packages\\scipy\\stats\\stats.py:1394: UserWarning: kurtosistest only valid for n>=20 ... continuing anyway, n=8\n",
      "  \"anyway, n=%i\" % int(n))\n"
     ]
    },
    {
     "name": "stdout",
     "output_type": "stream",
     "text": [
      "                            OLS Regression Results                            \n",
      "==============================================================================\n",
      "Dep. Variable:                   rand   R-squared:                        -inf\n",
      "Model:                            OLS   Adj. R-squared:                   -inf\n",
      "Method:                 Least Squares   F-statistic:                    -6.000\n",
      "Date:                Tue, 12 Feb 2019   Prob (F-statistic):               1.00\n",
      "Time:                        17:27:55   Log-Likelihood:                 500.04\n",
      "No. Observations:                   8   AIC:                            -996.1\n",
      "Df Residuals:                       6   BIC:                            -995.9\n",
      "Df Model:                           1                                         \n",
      "Covariance Type:            nonrobust                                         \n",
      "==============================================================================\n",
      "                 coef    std err          t      P>|t|      [0.025      0.975]\n",
      "------------------------------------------------------------------------------\n",
      "Intercept   3.955e-13   1.78e-28   2.22e+15      0.000    3.96e-13    3.96e-13\n",
      "beer       -2.524e-29   3.54e-29     -0.713      0.503   -1.12e-28    6.14e-29\n",
      "==============================================================================\n",
      "Omnibus:                        2.148   Durbin-Watson:                   0.277\n",
      "Prob(Omnibus):                  0.342   Jarque-Bera (JB):                0.352\n",
      "Skew:                          -0.507   Prob(JB):                        0.839\n",
      "Kurtosis:                       3.161   Cond. No.                         13.1\n",
      "==============================================================================\n",
      "\n",
      "Warnings:\n",
      "[1] Standard Errors assume that the covariance matrix of the errors is correctly specified.\n"
     ]
    },
    {
     "data": {
      "image/png": "[encoded data removed]",
      "text/plain": [
       "<Figure size 432x288 with 1 Axes>"
      ]
     },
     "metadata": {
      "needs_background": "light"
     },
     "output_type": "display_data"
    },
    {
     "name": "stderr",
     "output_type": "stream",
     "text": [
      "C:\\Users\\David\\Anaconda3\\envs\\python3\\lib\\site-packages\\scipy\\stats\\stats.py:1394: UserWarning: kurtosistest only valid for n>=20 ... continuing anyway, n=8\n",
      "  \"anyway, n=%i\" % int(n))\n"
     ]
    },
    {
     "name": "stdout",
     "output_type": "stream",
     "text": [
      "                            OLS Regression Results                            \n",
      "==============================================================================\n",
      "Dep. Variable:                   rand   R-squared:                        -inf\n",
      "Model:                            OLS   Adj. R-squared:                   -inf\n",
      "Method:                 Least Squares   F-statistic:                    -6.000\n",
      "Date:                Tue, 12 Feb 2019   Prob (F-statistic):               1.00\n",
      "Time:                        17:27:55   Log-Likelihood:                 516.12\n",
      "No. Observations:                   8   AIC:                            -1028.\n",
      "Df Residuals:                       6   BIC:                            -1028.\n",
      "Df Model:                           1                                         \n",
      "Covariance Type:            nonrobust                                         \n",
      "==============================================================================\n",
      "                 coef    std err          t      P>|t|      [0.025      0.975]\n",
      "------------------------------------------------------------------------------\n",
      "Intercept   5.109e-14   2.39e-29   2.14e+15      0.000    5.11e-14    5.11e-14\n",
      "beer       -3.353e-30   4.74e-30     -0.707      0.506    -1.5e-29    8.25e-30\n",
      "==============================================================================\n",
      "Omnibus:                        5.645   Durbin-Watson:                   0.204\n",
      "Prob(Omnibus):                  0.059   Jarque-Bera (JB):                1.641\n",
      "Skew:                          -1.073   Prob(JB):                        0.440\n",
      "Kurtosis:                       3.560   Cond. No.                         13.1\n",
      "==============================================================================\n",
      "\n",
      "Warnings:\n",
      "[1] Standard Errors assume that the covariance matrix of the errors is correctly specified.\n"
     ]
    },
    {
     "data": {
      "image/png": "[encoded data removed]",
      "text/plain": [
       "<Figure size 432x288 with 1 Axes>"
      ]
     },
     "metadata": {
      "needs_background": "light"
     },
     "output_type": "display_data"
    },
    {
     "name": "stderr",
     "output_type": "stream",
     "text": [
      "C:\\Users\\David\\Anaconda3\\envs\\python3\\lib\\site-packages\\scipy\\stats\\stats.py:1394: UserWarning: kurtosistest only valid for n>=20 ... continuing anyway, n=8\n",
      "  \"anyway, n=%i\" % int(n))\n"
     ]
    },
    {
     "name": "stdout",
     "output_type": "stream",
     "text": [
      "                            OLS Regression Results                            \n",
      "==============================================================================\n",
      "Dep. Variable:                   rand   R-squared:                        -inf\n",
      "Model:                            OLS   Adj. R-squared:                   -inf\n",
      "Method:                 Least Squares   F-statistic:                    -6.000\n",
      "Date:                Tue, 12 Feb 2019   Prob (F-statistic):               1.00\n",
      "Time:                        17:27:55   Log-Likelihood:                 535.11\n",
      "No. Observations:                   8   AIC:                            -1066.\n",
      "Df Residuals:                       6   BIC:                            -1066.\n",
      "Df Model:                           1                                         \n",
      "Covariance Type:            nonrobust                                         \n",
      "==============================================================================\n",
      "                 coef    std err          t      P>|t|      [0.025      0.975]\n",
      "------------------------------------------------------------------------------\n",
      "Intercept    6.47e-15   2.23e-30   2.91e+15      0.000    6.47e-15    6.47e-15\n",
      "beer       -4.191e-31   4.42e-31     -0.948      0.380    -1.5e-30    6.62e-31\n",
      "==============================================================================\n",
      "Omnibus:                        5.645   Durbin-Watson:                   0.367\n",
      "Prob(Omnibus):                  0.059   Jarque-Bera (JB):                1.641\n",
      "Skew:                          -1.073   Prob(JB):                        0.440\n",
      "Kurtosis:                       3.560   Cond. No.                         13.1\n",
      "==============================================================================\n",
      "\n",
      "Warnings:\n",
      "[1] Standard Errors assume that the covariance matrix of the errors is correctly specified.\n"
     ]
    },
    {
     "data": {
      "image/png": "[encoded data removed]",
      "text/plain": [
       "<Figure size 432x288 with 1 Axes>"
      ]
     },
     "metadata": {
      "needs_background": "light"
     },
     "output_type": "display_data"
    },
    {
     "name": "stderr",
     "output_type": "stream",
     "text": [
      "C:\\Users\\David\\Anaconda3\\envs\\python3\\lib\\site-packages\\scipy\\stats\\stats.py:1394: UserWarning: kurtosistest only valid for n>=20 ... continuing anyway, n=8\n",
      "  \"anyway, n=%i\" % int(n))\n"
     ]
    },
    {
     "name": "stdout",
     "output_type": "stream",
     "text": [
      "                            OLS Regression Results                            \n",
      "==============================================================================\n",
      "Dep. Variable:                   rand   R-squared:                        -inf\n",
      "Model:                            OLS   Adj. R-squared:                   -inf\n",
      "Method:                 Least Squares   F-statistic:                    -6.000\n",
      "Date:                Tue, 12 Feb 2019   Prob (F-statistic):               1.00\n",
      "Time:                        17:27:56   Log-Likelihood:                 549.39\n",
      "No. Observations:                   8   AIC:                            -1095.\n",
      "Df Residuals:                       6   BIC:                            -1095.\n",
      "Df Model:                           1                                         \n",
      "Covariance Type:            nonrobust                                         \n",
      "==============================================================================\n",
      "                 coef    std err          t      P>|t|      [0.025      0.975]\n",
      "------------------------------------------------------------------------------\n",
      "Intercept   7.628e-16   3.73e-31   2.04e+15      0.000    7.63e-16    7.63e-16\n",
      "beer       -5.084e-32   7.41e-32     -0.686      0.518   -2.32e-31     1.3e-31\n",
      "==============================================================================\n",
      "Omnibus:                        5.645   Durbin-Watson:                   0.204\n",
      "Prob(Omnibus):                  0.059   Jarque-Bera (JB):                1.641\n",
      "Skew:                          -1.073   Prob(JB):                        0.440\n",
      "Kurtosis:                       3.560   Cond. No.                         13.1\n",
      "==============================================================================\n",
      "\n",
      "Warnings:\n",
      "[1] Standard Errors assume that the covariance matrix of the errors is correctly specified.\n"
     ]
    },
    {
     "data": {
      "image/png": "[encoded data removed]",
      "text/plain": [
       "<Figure size 432x288 with 1 Axes>"
      ]
     },
     "metadata": {
      "needs_background": "light"
     },
     "output_type": "display_data"
    },
    {
     "name": "stderr",
     "output_type": "stream",
     "text": [
      "C:\\Users\\David\\Anaconda3\\envs\\python3\\lib\\site-packages\\scipy\\stats\\stats.py:1394: UserWarning: kurtosistest only valid for n>=20 ... continuing anyway, n=8\n",
      "  \"anyway, n=%i\" % int(n))\n"
     ]
    },
    {
     "name": "stdout",
     "output_type": "stream",
     "text": [
      "                            OLS Regression Results                            \n",
      "==============================================================================\n",
      "Dep. Variable:                   rand   R-squared:                        -inf\n",
      "Model:                            OLS   Adj. R-squared:                   -inf\n",
      "Method:                 Least Squares   F-statistic:                    -6.000\n",
      "Date:                Tue, 12 Feb 2019   Prob (F-statistic):               1.00\n",
      "Time:                        17:27:56   Log-Likelihood:                 568.80\n",
      "No. Observations:                   8   AIC:                            -1134.\n",
      "Df Residuals:                       6   BIC:                            -1133.\n",
      "Df Model:                           1                                         \n",
      "Covariance Type:            nonrobust                                         \n",
      "==============================================================================\n",
      "                 coef    std err          t      P>|t|      [0.025      0.975]\n",
      "------------------------------------------------------------------------------\n",
      "Intercept   8.963e-17    3.3e-32   2.72e+15      0.000    8.96e-17    8.96e-17\n",
      "beer       -3.852e-33   6.55e-33     -0.588      0.578   -1.99e-32    1.22e-32\n",
      "==============================================================================\n",
      "Omnibus:                        3.629   Durbin-Watson:                   0.111\n",
      "Prob(Omnibus):                  0.163   Jarque-Bera (JB):                1.521\n",
      "Skew:                          -1.061   Prob(JB):                        0.467\n",
      "Kurtosis:                       2.750   Cond. No.                         13.1\n",
      "==============================================================================\n",
      "\n",
      "Warnings:\n",
      "[1] Standard Errors assume that the covariance matrix of the errors is correctly specified.\n"
     ]
    },
    {
     "data": {
      "image/png": "[encoded data removed]",
      "text/plain": [
       "<Figure size 432x288 with 1 Axes>"
      ]
     },
     "metadata": {
      "needs_background": "light"
     },
     "output_type": "display_data"
    },
    {
     "name": "stderr",
     "output_type": "stream",
     "text": [
      "C:\\Users\\David\\Anaconda3\\envs\\python3\\lib\\site-packages\\scipy\\stats\\stats.py:1394: UserWarning: kurtosistest only valid for n>=20 ... continuing anyway, n=8\n",
      "  \"anyway, n=%i\" % int(n))\n"
     ]
    },
    {
     "name": "stdout",
     "output_type": "stream",
     "text": [
      "                            OLS Regression Results                            \n",
      "==============================================================================\n",
      "Dep. Variable:                   rand   R-squared:                        -inf\n",
      "Model:                            OLS   Adj. R-squared:                   -inf\n",
      "Method:                 Least Squares   F-statistic:                    -6.000\n",
      "Date:                Tue, 12 Feb 2019   Prob (F-statistic):               1.00\n",
      "Time:                        17:27:56   Log-Likelihood:                 586.35\n",
      "No. Observations:                   8   AIC:                            -1169.\n",
      "Df Residuals:                       6   BIC:                            -1169.\n",
      "Df Model:                           1                                         \n",
      "Covariance Type:            nonrobust                                         \n",
      "==============================================================================\n",
      "                 coef    std err          t      P>|t|      [0.025      0.975]\n",
      "------------------------------------------------------------------------------\n",
      "Intercept    1.05e-17   3.68e-33   2.85e+15      0.000    1.05e-17    1.05e-17\n",
      "beer       -6.741e-34   7.31e-34     -0.923      0.392   -2.46e-33    1.11e-33\n",
      "==============================================================================\n",
      "Omnibus:                        6.891   Durbin-Watson:                   0.372\n",
      "Prob(Omnibus):                  0.032   Jarque-Bera (JB):                2.080\n",
      "Skew:                          -1.191   Prob(JB):                        0.353\n",
      "Kurtosis:                       3.749   Cond. No.                         13.1\n",
      "==============================================================================\n",
      "\n",
      "Warnings:\n",
      "[1] Standard Errors assume that the covariance matrix of the errors is correctly specified.\n"
     ]
    },
    {
     "data": {
      "image/png": "[encoded data removed]",
      "text/plain": [
       "<Figure size 432x288 with 1 Axes>"
      ]
     },
     "metadata": {
      "needs_background": "light"
     },
     "output_type": "display_data"
    },
    {
     "name": "stderr",
     "output_type": "stream",
     "text": [
      "C:\\Users\\David\\Anaconda3\\envs\\python3\\lib\\site-packages\\scipy\\stats\\stats.py:1394: UserWarning: kurtosistest only valid for n>=20 ... continuing anyway, n=8\n",
      "  \"anyway, n=%i\" % int(n))\n"
     ]
    },
    {
     "name": "stdout",
     "output_type": "stream",
     "text": [
      "                            OLS Regression Results                            \n",
      "==============================================================================\n",
      "Dep. Variable:                   rand   R-squared:                        -inf\n",
      "Model:                            OLS   Adj. R-squared:                   -inf\n",
      "Method:                 Least Squares   F-statistic:                    -6.000\n",
      "Date:                Tue, 12 Feb 2019   Prob (F-statistic):               1.00\n",
      "Time:                        17:27:57   Log-Likelihood:                 602.07\n",
      "No. Observations:                   8   AIC:                            -1200.\n",
      "Df Residuals:                       6   BIC:                            -1200.\n",
      "Df Model:                           1                                         \n",
      "Covariance Type:            nonrobust                                         \n",
      "==============================================================================\n",
      "                 coef    std err          t      P>|t|      [0.025      0.975]\n",
      "------------------------------------------------------------------------------\n",
      "Intercept   1.227e-18   5.16e-34   2.38e+15      0.000    1.23e-18    1.23e-18\n",
      "beer        -6.62e-35   1.02e-34     -0.647      0.542   -3.17e-34    1.84e-34\n",
      "==============================================================================\n",
      "Omnibus:                        3.629   Durbin-Watson:                   0.111\n",
      "Prob(Omnibus):                  0.163   Jarque-Bera (JB):                1.521\n",
      "Skew:                          -1.061   Prob(JB):                        0.467\n",
      "Kurtosis:                       2.750   Cond. No.                         13.1\n",
      "==============================================================================\n",
      "\n",
      "Warnings:\n",
      "[1] Standard Errors assume that the covariance matrix of the errors is correctly specified.\n"
     ]
    },
    {
     "data": {
      "image/png": "[encoded data removed]",
      "text/plain": [
       "<Figure size 432x288 with 1 Axes>"
      ]
     },
     "metadata": {
      "needs_background": "light"
     },
     "output_type": "display_data"
    },
    {
     "name": "stderr",
     "output_type": "stream",
     "text": [
      "C:\\Users\\David\\Anaconda3\\envs\\python3\\lib\\site-packages\\scipy\\stats\\stats.py:1394: UserWarning: kurtosistest only valid for n>=20 ... continuing anyway, n=8\n",
      "  \"anyway, n=%i\" % int(n))\n"
     ]
    },
    {
     "name": "stdout",
     "output_type": "stream",
     "text": [
      "                            OLS Regression Results                            \n",
      "==============================================================================\n",
      "Dep. Variable:                   rand   R-squared:                        -inf\n",
      "Model:                            OLS   Adj. R-squared:                   -inf\n",
      "Method:                 Least Squares   F-statistic:                    -6.000\n",
      "Date:                Tue, 12 Feb 2019   Prob (F-statistic):               1.00\n",
      "Time:                        17:27:57   Log-Likelihood:                 618.71\n",
      "No. Observations:                   8   AIC:                            -1233.\n",
      "Df Residuals:                       6   BIC:                            -1233.\n",
      "Df Model:                           1                                         \n",
      "Covariance Type:            nonrobust                                         \n",
      "==============================================================================\n",
      "                 coef    std err          t      P>|t|      [0.025      0.975]\n",
      "------------------------------------------------------------------------------\n",
      "Intercept    1.43e-19   6.44e-35   2.22e+15      0.000    1.43e-19    1.43e-19\n",
      "beer       -7.523e-36   1.28e-35     -0.588      0.578   -3.88e-35    2.38e-35\n",
      "==============================================================================\n",
      "Omnibus:                        3.629   Durbin-Watson:                   0.111\n",
      "Prob(Omnibus):                  0.163   Jarque-Bera (JB):                1.521\n",
      "Skew:                          -1.061   Prob(JB):                        0.467\n",
      "Kurtosis:                       2.750   Cond. No.                         13.1\n",
      "==============================================================================\n",
      "\n",
      "Warnings:\n",
      "[1] Standard Errors assume that the covariance matrix of the errors is correctly specified.\n"
     ]
    },
    {
     "data": {
      "image/png": "[encoded data removed]",
      "text/plain": [
       "<Figure size 432x288 with 1 Axes>"
      ]
     },
     "metadata": {
      "needs_background": "light"
     },
     "output_type": "display_data"
    },
    {
     "name": "stderr",
     "output_type": "stream",
     "text": [
      "C:\\Users\\David\\Anaconda3\\envs\\python3\\lib\\site-packages\\scipy\\stats\\stats.py:1394: UserWarning: kurtosistest only valid for n>=20 ... continuing anyway, n=8\n",
      "  \"anyway, n=%i\" % int(n))\n"
     ]
    },
    {
     "name": "stdout",
     "output_type": "stream",
     "text": [
      "                            OLS Regression Results                            \n",
      "==============================================================================\n",
      "Dep. Variable:                   rand   R-squared:                        -inf\n",
      "Model:                            OLS   Adj. R-squared:                   -inf\n",
      "Method:                 Least Squares   F-statistic:                    -6.000\n",
      "Date:                Tue, 12 Feb 2019   Prob (F-statistic):               1.00\n",
      "Time:                        17:27:57   Log-Likelihood:                 638.93\n",
      "No. Observations:                   8   AIC:                            -1274.\n",
      "Df Residuals:                       6   BIC:                            -1274.\n",
      "Df Model:                           1                                         \n",
      "Covariance Type:            nonrobust                                         \n",
      "==============================================================================\n",
      "                 coef    std err          t      P>|t|      [0.025      0.975]\n",
      "------------------------------------------------------------------------------\n",
      "Intercept   1.664e-20   5.14e-36   3.24e+15      0.000    1.66e-20    1.66e-20\n",
      "beer       -1.034e-36   1.02e-36     -1.014      0.350   -3.53e-36    1.46e-36\n",
      "==============================================================================\n",
      "Omnibus:                        3.629   Durbin-Watson:                   0.273\n",
      "Prob(Omnibus):                  0.163   Jarque-Bera (JB):                1.521\n",
      "Skew:                          -1.061   Prob(JB):                        0.467\n",
      "Kurtosis:                       2.750   Cond. No.                         13.1\n",
      "==============================================================================\n",
      "\n",
      "Warnings:\n",
      "[1] Standard Errors assume that the covariance matrix of the errors is correctly specified.\n"
     ]
    },
    {
     "data": {
      "image/png": "[encoded data removed]",
      "text/plain": [
       "<Figure size 432x288 with 1 Axes>"
      ]
     },
     "metadata": {
      "needs_background": "light"
     },
     "output_type": "display_data"
    },
    {
     "name": "stdout",
     "output_type": "stream",
     "text": [
      "                            OLS Regression Results                            \n",
      "==============================================================================\n",
      "Dep. Variable:                   rand   R-squared:                        -inf\n",
      "Model:                            OLS   Adj. R-squared:                   -inf\n",
      "Method:                 Least Squares   F-statistic:                    -6.000\n",
      "Date:                Tue, 12 Feb 2019   Prob (F-statistic):               1.00\n",
      "Time:                        17:27:58   Log-Likelihood:                 656.84\n",
      "No. Observations:                   8   AIC:                            -1310.\n",
      "Df Residuals:                       6   BIC:                            -1310.\n",
      "Df Model:                           1                                         \n",
      "Covariance Type:            nonrobust                                         \n",
      "==============================================================================\n",
      "                 coef    std err          t      P>|t|      [0.025      0.975]\n",
      "------------------------------------------------------------------------------\n",
      "Intercept   1.931e-21   5.48e-37   3.52e+15      0.000    1.93e-21    1.93e-21\n",
      "beer       -1.058e-37   1.09e-37     -0.972      0.368   -3.72e-37     1.6e-37\n",
      "==============================================================================\n",
      "Omnibus:                        0.297   Durbin-Watson:                   0.500\n",
      "Prob(Omnibus):                  0.862   Jarque-Bera (JB):                0.340\n",
      "Skew:                          -0.324   Prob(JB):                        0.843\n",
      "Kurtosis:                       2.224   Cond. No.                         13.1\n",
      "==============================================================================\n",
      "\n",
      "Warnings:\n",
      "[1] Standard Errors assume that the covariance matrix of the errors is correctly specified.\n"
     ]
    },
    {
     "name": "stderr",
     "output_type": "stream",
     "text": [
      "C:\\Users\\David\\Anaconda3\\envs\\python3\\lib\\site-packages\\scipy\\stats\\stats.py:1394: UserWarning: kurtosistest only valid for n>=20 ... continuing anyway, n=8\n",
      "  \"anyway, n=%i\" % int(n))\n"
     ]
    }
   ],
   "source": [
    "\n",
    "probs_1 = ['p1_lik_1', 'p1_lik_2', 'p1_lik_3', 'p1_lik_4', 'p1_lik_5', 'p1_lik_6', 'p1_lik_7','p1_lik_8','p1_lik_9',\n",
    "           'p1_lik_10', 'p1_lik_11', 'p1_lik_12', 'p1_lik_13', 'p1_lik_14', 'p1_lik_15', 'p1_lik_16', 'p1_lik_17', \n",
    "            'p1_lik_18', 'p1_lik_19', 'p1_lik_20', 'p1_lik_21', 'p1_lik_22', 'p1_lik_23', 'p1_lik_24']\n",
    "\n",
    "probs_2 = ['p2_lik_1', 'p2_lik_2', 'p2_lik_3', 'p2_lik_4', 'p2_lik_5', 'p2_lik_6', 'p2_lik_7','p2_lik_8','p2_lik_9',\n",
    "           'p2_lik_10', 'p2_lik_11', 'p2_lik_12', 'p2_lik_13', 'p2_lik_14', 'p2_lik_15', 'p2_lik_16', 'p2_lik_17', \n",
    "            'p2_lik_18', 'p2_lik_19', 'p2_lik_20', 'p2_lik_21', 'p2_lik_22', 'p2_lik_23', 'p2_lik_24']\n",
    "\n",
    "\n",
    "           \n",
    "for probs in range(0, len(probs_1)):\n",
    "    ##         \n",
    "    beer_n = []\n",
    "    r_value=[]\n",
    "    winner=[]\n",
    "\n",
    "    for r in df['rounds'].unique():\n",
    "        r_value.append(df.loc[df['rounds']==r, probs_1[probs]].iloc[0])\n",
    "        r_value.append(df.loc[df['rounds']==r, probs_2[probs]].iloc[0])\n",
    "        beer_n.append(df.loc[df['rounds']==r, 'b_p1'].iloc[0])\n",
    "        beer_n.append(df.loc[df['rounds']==r, 'b_p2'].iloc[0])  \n",
    "\n",
    "\n",
    "\n",
    "    df_b_r = pd.DataFrame({'beer': beer_n, 'rand': r_value})\n",
    "    sns.regplot(df_b_r['beer'], df_b_r['rand'], ci=68, fit_reg=True)\n",
    "    plt.title('Radomness with beer consumption')\n",
    "    plt.xlabel('number of beers')\n",
    "    plt.ylabel('Randomness index')\n",
    "    plt.gca().spines['right'].set_visible(False)\n",
    "    plt.gca().spines['top'].set_visible(False)\n",
    "    plt.gca().get_xaxis().tick_bottom()\n",
    "    plt.gca().get_yaxis().tick_left()\n",
    "    plt.show()\n",
    "\n",
    "\n",
    "    #ols\n",
    "    mod = ols('rand ~ beer', data=df_b_r).fit()\n",
    "    print(mod.summary())"
   ]
  },
  {
   "cell_type": "markdown",
   "metadata": {},
   "source": [
    "## Is beeing random a good strategy to win?"
   ]
  },
  {
   "cell_type": "code",
   "execution_count": 68,
   "metadata": {},
   "outputs": [
    {
     "data": {
      "text/plain": [
       "6301.9845000000005"
      ]
     },
     "execution_count": 68,
     "metadata": {},
     "output_type": "execute_result"
    }
   ],
   "source": [
    "v1 = df.loc[df['rounds']==r, 'randomness_p1'].iloc[0]\n",
    "v2 = df.loc[df['rounds']==r, 'randomness_p2'].iloc[0]\n",
    "\n",
    "np.mean([v1, v2])\n",
    "#print(v1, v2)"
   ]
  },
  {
   "cell_type": "code",
   "execution_count": 69,
   "metadata": {
    "scrolled": false
   },
   "outputs": [
    {
     "name": "stderr",
     "output_type": "stream",
     "text": [
      "C:\\Users\\David\\Anaconda3\\envs\\python3\\lib\\site-packages\\seaborn\\categorical.py:3666: UserWarning: The `factorplot` function has been renamed to `catplot`. The original name will be removed in a future release. Please update your code. Note that the default `kind` in `factorplot` (`'point'`) has changed `'strip'` in `catplot`.\n",
      "  warnings.warn(msg)\n",
      "C:\\Users\\David\\Anaconda3\\envs\\python3\\lib\\site-packages\\scipy\\stats\\stats.py:1713: FutureWarning: Using a non-tuple sequence for multidimensional indexing is deprecated; use `arr[tuple(seq)]` instead of `arr[seq]`. In the future this will be interpreted as an array index, `arr[np.array(seq)]`, which will result either in an error or a different result.\n",
      "  return np.add.reduce(sorted[indexer] * weights, axis=axis) / sumval\n"
     ]
    },
    {
     "data": {
      "image/png": "[encoded data removed]",
      "text/plain": [
       "<Figure size 360x360 with 1 Axes>"
      ]
     },
     "metadata": {
      "needs_background": "light"
     },
     "output_type": "display_data"
    },
    {
     "data": {
      "image/png": "[encoded data removed]",
      "text/plain": [
       "<Figure size 432x288 with 2 Axes>"
      ]
     },
     "metadata": {
      "needs_background": "light"
     },
     "output_type": "display_data"
    },
    {
     "name": "stdout",
     "output_type": "stream",
     "text": [
      "          winner    looser      draw\n",
      "winner -1.000000  0.546158  0.607332\n",
      "looser  0.546158 -1.000000  0.900000\n",
      "draw    0.607332  0.900000 -1.000000\n"
     ]
    }
   ],
   "source": [
    "### I create a draw mean value by combing bothe the random value and beer consumption of the participants\n",
    "\n",
    "w_r_value=[]\n",
    "l_r_value=[]\n",
    "d_r_value=[]\n",
    "\n",
    "w_b=[]\n",
    "l_b=[]\n",
    "d_b=[]\n",
    "\n",
    "\n",
    "for r in df['rounds'].unique():\n",
    "    win = df.loc[df['rounds']==r, 'winner_round'].iloc[0]\n",
    "    if win == df.loc[df['rounds']==r, 'player1'].iloc[0]:\n",
    "        w_r_value.append(df.loc[df['rounds']==r, 'randomness_p1'].iloc[0])\n",
    "        l_r_value.append(df.loc[df['rounds']==r, 'randomness_p2'].iloc[0])\n",
    "        w_b.append(df.loc[df['rounds']==r, 'b_p1'].iloc[0])\n",
    "        l_b.append(df.loc[df['rounds']==r, 'b_p2'].iloc[0])  \n",
    "    elif win == df.loc[df['rounds']==r, 'player2'].iloc[0]:\n",
    "        w_r_value.append(df.loc[df['rounds']==r, 'randomness_p2'].iloc[0])\n",
    "        l_r_value.append(df.loc[df['rounds']==r, 'randomness_p1'].iloc[0])\n",
    "        w_b.append(df.loc[df['rounds']==r, 'b_p2'].iloc[0])\n",
    "        l_b.append(df.loc[df['rounds']==r, 'b_p1'].iloc[0])\n",
    "    else: ## draw\n",
    "        d_r_value.append(df.loc[df['rounds']==r, 'randomness_p2'].iloc[0] ) \n",
    "        d_r_value.append( df.loc[df['rounds']==r, 'randomness_p1'].iloc[0] )\n",
    "        d_b.append(df.loc[df['rounds']==r, 'b_p2'].iloc[0] )\n",
    "        d_b.append(df.loc[df['rounds']==r, 'b_p1'].iloc[0] )\n",
    "\n",
    "        \n",
    "\n",
    "### Dataframe for each    \n",
    "df_win = pd.DataFrame({'beer': w_b, 'rand': w_r_value})\n",
    "df_win['winners'] = 'winner'\n",
    "df_l = pd.DataFrame({'beer': l_b, 'rand': l_r_value})\n",
    "df_l['winners'] = 'looser'\n",
    "df_d = pd.DataFrame({'beer': d_b, 'rand': d_r_value})\n",
    "df_d['winners'] = 'draw'\n",
    "#concatenate them\n",
    "df_w_l=pd.concat([df_win, df_l, df_d], ignore_index=True)\n",
    "\n",
    "#Difference in mean randomness?\n",
    "sns.factorplot(x='winners', y='rand', data=df_w_l, kind='bar', ci=68)\n",
    "plt.title('Randomnes and victory')\n",
    "plt.show()\n",
    "\n",
    "#mod = ols('rand ~ winners', data=df_w_l).fit()\n",
    "#print(mod.summary())\n",
    "\n",
    "pc = sp.posthoc_tukey(df_w_l, val_col='rand', group_col='winners') \n",
    "heatmap_args = {'linewidths': 0.25, 'linecolor': '0.5', 'clip_on': False, 'square': True, 'cbar_ax_bbox': [0.80, 0.35, 0.04, 0.3]}\n",
    "sp.sign_plot(pc, **heatmap_args)\n",
    "plt.show()\n",
    "print(pc)\n"
   ]
  },
  {
   "cell_type": "markdown",
   "metadata": {},
   "source": [
    "### Is drinking a goos strategy?"
   ]
  },
  {
   "cell_type": "code",
   "execution_count": 70,
   "metadata": {},
   "outputs": [
    {
     "name": "stderr",
     "output_type": "stream",
     "text": [
      "C:\\Users\\David\\Anaconda3\\envs\\python3\\lib\\site-packages\\seaborn\\categorical.py:3666: UserWarning: The `factorplot` function has been renamed to `catplot`. The original name will be removed in a future release. Please update your code. Note that the default `kind` in `factorplot` (`'point'`) has changed `'strip'` in `catplot`.\n",
      "  warnings.warn(msg)\n",
      "C:\\Users\\David\\Anaconda3\\envs\\python3\\lib\\site-packages\\scipy\\stats\\stats.py:1713: FutureWarning: Using a non-tuple sequence for multidimensional indexing is deprecated; use `arr[tuple(seq)]` instead of `arr[seq]`. In the future this will be interpreted as an array index, `arr[np.array(seq)]`, which will result either in an error or a different result.\n",
      "  return np.add.reduce(sorted[indexer] * weights, axis=axis) / sumval\n"
     ]
    },
    {
     "data": {
      "image/png": "[encoded data removed]",
      "text/plain": [
       "<Figure size 360x360 with 1 Axes>"
      ]
     },
     "metadata": {
      "needs_background": "light"
     },
     "output_type": "display_data"
    },
    {
     "data": {
      "image/png": "[encoded data removed]",
      "text/plain": [
       "<Figure size 432x288 with 2 Axes>"
      ]
     },
     "metadata": {
      "needs_background": "light"
     },
     "output_type": "display_data"
    },
    {
     "data": {
      "text/html": [
       "<div>\n",
       "<style scoped>\n",
       "    .dataframe tbody tr th:only-of-type {\n",
       "        vertical-align: middle;\n",
       "    }\n",
       "\n",
       "    .dataframe tbody tr th {\n",
       "        vertical-align: top;\n",
       "    }\n",
       "\n",
       "    .dataframe thead th {\n",
       "        text-align: right;\n",
       "    }\n",
       "</style>\n",
       "<table border=\"1\" class=\"dataframe\">\n",
       "  <thead>\n",
       "    <tr style=\"text-align: right;\">\n",
       "      <th></th>\n",
       "      <th>winner</th>\n",
       "      <th>looser</th>\n",
       "      <th>draw</th>\n",
       "    </tr>\n",
       "  </thead>\n",
       "  <tbody>\n",
       "    <tr>\n",
       "      <th>winner</th>\n",
       "      <td>-1.000000</td>\n",
       "      <td>0.303457</td>\n",
       "      <td>0.900000</td>\n",
       "    </tr>\n",
       "    <tr>\n",
       "      <th>looser</th>\n",
       "      <td>0.303457</td>\n",
       "      <td>-1.000000</td>\n",
       "      <td>0.409889</td>\n",
       "    </tr>\n",
       "    <tr>\n",
       "      <th>draw</th>\n",
       "      <td>0.900000</td>\n",
       "      <td>0.409889</td>\n",
       "      <td>-1.000000</td>\n",
       "    </tr>\n",
       "  </tbody>\n",
       "</table>\n",
       "</div>"
      ],
      "text/plain": [
       "          winner    looser      draw\n",
       "winner -1.000000  0.303457  0.900000\n",
       "looser  0.303457 -1.000000  0.409889\n",
       "draw    0.900000  0.409889 -1.000000"
      ]
     },
     "execution_count": 70,
     "metadata": {},
     "output_type": "execute_result"
    }
   ],
   "source": [
    "#Difference in mean randomness?\n",
    "sns.factorplot(x='winners', y='beer', data=df_w_l, kind='bar')\n",
    "plt.title('Beers and victory')\n",
    "plt.show()\n",
    "\n",
    "pc = sp.posthoc_tukey(df_w_l, val_col='beer', group_col='winners') \n",
    "heatmap_args = {'linewidths': 0.25, 'linecolor': '0.5', 'clip_on': False, 'square': True, 'cbar_ax_bbox': [0.80, 0.35, 0.04, 0.3]}\n",
    "sp.sign_plot(pc, **heatmap_args)\n",
    "plt.show()\n",
    "pc"
   ]
  },
  {
   "cell_type": "code",
   "execution_count": 71,
   "metadata": {},
   "outputs": [
    {
     "name": "stdout",
     "output_type": "stream",
     "text": [
      "                            OLS Regression Results                            \n",
      "==============================================================================\n",
      "Dep. Variable:                   rand   R-squared:                       0.918\n",
      "Model:                            OLS   Adj. R-squared:                  0.714\n",
      "Method:                 Least Squares   F-statistic:                     4.500\n",
      "Date:                Tue, 12 Feb 2019   Prob (F-statistic):              0.192\n",
      "Time:                        17:27:59   Log-Likelihood:                -406.16\n",
      "No. Observations:                   8   AIC:                             824.3\n",
      "Df Residuals:                       2   BIC:                             824.8\n",
      "Df Model:                           5                                         \n",
      "Covariance Type:            nonrobust                                         \n",
      "=============================================================================================\n",
      "                                coef    std err          t      P>|t|      [0.025      0.975]\n",
      "---------------------------------------------------------------------------------------------\n",
      "Intercept                  6.217e+07   4.23e+22   1.47e-15      1.000   -1.82e+23    1.82e+23\n",
      "C(winners)[T.looser]       6.955e+08   4.26e+22   1.63e-14      1.000   -1.83e+23    1.83e+23\n",
      "C(winners)[T.winner]       6.755e+22   4.47e+22      1.510      0.270   -1.25e+23     2.6e+23\n",
      "beer                      -1.218e+07   7.66e+21  -1.59e-15      1.000    -3.3e+22     3.3e+22\n",
      "beer:C(winners)[T.looser] -1.509e+08    7.8e+21  -1.94e-14      1.000   -3.35e+22    3.35e+22\n",
      "beer:C(winners)[T.winner] -1.024e+22   8.06e+21     -1.270      0.332   -4.49e+22    2.44e+22\n",
      "==============================================================================\n",
      "Omnibus:                        6.372   Durbin-Watson:                   1.929\n",
      "Prob(Omnibus):                  0.041   Jarque-Bera (JB):                1.593\n",
      "Skew:                          -0.972   Prob(JB):                        0.451\n",
      "Kurtosis:                       4.000   Cond. No.                         231.\n",
      "==============================================================================\n",
      "\n",
      "Warnings:\n",
      "[1] Standard Errors assume that the covariance matrix of the errors is correctly specified.\n"
     ]
    },
    {
     "name": "stderr",
     "output_type": "stream",
     "text": [
      "C:\\Users\\David\\Anaconda3\\envs\\python3\\lib\\site-packages\\scipy\\stats\\stats.py:1394: UserWarning: kurtosistest only valid for n>=20 ... continuing anyway, n=8\n",
      "  \"anyway, n=%i\" % int(n))\n"
     ]
    }
   ],
   "source": [
    "\n",
    "## Dimple regression model where we try to explain randomness as a function of beer consumption and as a winning strategy\n",
    "mod = ols('rand ~ beer * C(winners)', data=df_w_l).fit()\n",
    "print(mod.summary())\n"
   ]
  },
  {
   "cell_type": "code",
   "execution_count": null,
   "metadata": {},
   "outputs": [],
   "source": []
  }
 ],
 "metadata": {
  "kernelspec": {
   "display_name": "Python 3",
   "language": "python",
   "name": "python3"
  },
  "language_info": {
   "codemirror_mode": {
    "name": "ipython",
    "version": 3
   },
   "file_extension": ".py",
   "mimetype": "text/x-python",
   "name": "python",
   "nbconvert_exporter": "python",
   "pygments_lexer": "ipython3",
   "version": "3.5.6"
  }
 },
 "nbformat": 4,
 "nbformat_minor": 2
}

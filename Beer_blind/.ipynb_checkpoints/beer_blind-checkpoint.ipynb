{
 "cells": [
  {
   "cell_type": "code",
   "execution_count": 333,
   "metadata": {},
   "outputs": [],
   "source": [
    "#### Analysis beer competition\n",
    "import pandas as pd\n",
    "import numpy as np\n",
    "import itertools\n",
    "import matplotlib.pyplot as plt\n",
    "import seaborn as sns\n",
    "from scipy import stats\n",
    "from scipy.stats import chisquare"
   ]
  },
  {
   "cell_type": "markdown",
   "metadata": {},
   "source": [
    "### Random data \n",
    "##### (here you should load the data of Joao)"
   ]
  },
  {
   "cell_type": "code",
   "execution_count": 334,
   "metadata": {},
   "outputs": [
    {
     "data": {
      "text/html": [
       "<div>\n",
       "<style scoped>\n",
       "    .dataframe tbody tr th:only-of-type {\n",
       "        vertical-align: middle;\n",
       "    }\n",
       "\n",
       "    .dataframe tbody tr th {\n",
       "        vertical-align: top;\n",
       "    }\n",
       "\n",
       "    .dataframe thead th {\n",
       "        text-align: right;\n",
       "    }\n",
       "</style>\n",
       "<table border=\"1\" class=\"dataframe\">\n",
       "  <thead>\n",
       "    <tr style=\"text-align: right;\">\n",
       "      <th></th>\n",
       "      <th>blind</th>\n",
       "      <th>seen</th>\n",
       "      <th>subj</th>\n",
       "      <th>beer1</th>\n",
       "      <th>beer2</th>\n",
       "    </tr>\n",
       "  </thead>\n",
       "  <tbody>\n",
       "    <tr>\n",
       "      <th>0</th>\n",
       "      <td>0</td>\n",
       "      <td>1</td>\n",
       "      <td>alba</td>\n",
       "      <td>heineken</td>\n",
       "      <td>china</td>\n",
       "    </tr>\n",
       "    <tr>\n",
       "      <th>1</th>\n",
       "      <td>1</td>\n",
       "      <td>0</td>\n",
       "      <td>alba</td>\n",
       "      <td>heineken</td>\n",
       "      <td>cruzcampo</td>\n",
       "    </tr>\n",
       "    <tr>\n",
       "      <th>2</th>\n",
       "      <td>1</td>\n",
       "      <td>0</td>\n",
       "      <td>alba</td>\n",
       "      <td>heineken</td>\n",
       "      <td>galicia</td>\n",
       "    </tr>\n",
       "    <tr>\n",
       "      <th>3</th>\n",
       "      <td>1</td>\n",
       "      <td>1</td>\n",
       "      <td>alba</td>\n",
       "      <td>heineken</td>\n",
       "      <td>damm</td>\n",
       "    </tr>\n",
       "    <tr>\n",
       "      <th>4</th>\n",
       "      <td>0</td>\n",
       "      <td>1</td>\n",
       "      <td>alba</td>\n",
       "      <td>damm</td>\n",
       "      <td>china</td>\n",
       "    </tr>\n",
       "    <tr>\n",
       "      <th>5</th>\n",
       "      <td>1</td>\n",
       "      <td>1</td>\n",
       "      <td>alba</td>\n",
       "      <td>damm</td>\n",
       "      <td>cruzcampo</td>\n",
       "    </tr>\n",
       "    <tr>\n",
       "      <th>6</th>\n",
       "      <td>0</td>\n",
       "      <td>1</td>\n",
       "      <td>alba</td>\n",
       "      <td>damm</td>\n",
       "      <td>galicia</td>\n",
       "    </tr>\n",
       "    <tr>\n",
       "      <th>7</th>\n",
       "      <td>1</td>\n",
       "      <td>1</td>\n",
       "      <td>alba</td>\n",
       "      <td>galicia</td>\n",
       "      <td>china</td>\n",
       "    </tr>\n",
       "    <tr>\n",
       "      <th>8</th>\n",
       "      <td>1</td>\n",
       "      <td>0</td>\n",
       "      <td>alba</td>\n",
       "      <td>galicia</td>\n",
       "      <td>cruzcampo</td>\n",
       "    </tr>\n",
       "    <tr>\n",
       "      <th>9</th>\n",
       "      <td>1</td>\n",
       "      <td>1</td>\n",
       "      <td>alba</td>\n",
       "      <td>cruzcampo</td>\n",
       "      <td>china</td>\n",
       "    </tr>\n",
       "    <tr>\n",
       "      <th>10</th>\n",
       "      <td>0</td>\n",
       "      <td>0</td>\n",
       "      <td>delfi</td>\n",
       "      <td>heineken</td>\n",
       "      <td>china</td>\n",
       "    </tr>\n",
       "    <tr>\n",
       "      <th>11</th>\n",
       "      <td>0</td>\n",
       "      <td>0</td>\n",
       "      <td>delfi</td>\n",
       "      <td>heineken</td>\n",
       "      <td>cruzcampo</td>\n",
       "    </tr>\n",
       "    <tr>\n",
       "      <th>12</th>\n",
       "      <td>0</td>\n",
       "      <td>0</td>\n",
       "      <td>delfi</td>\n",
       "      <td>heineken</td>\n",
       "      <td>galicia</td>\n",
       "    </tr>\n",
       "    <tr>\n",
       "      <th>13</th>\n",
       "      <td>1</td>\n",
       "      <td>0</td>\n",
       "      <td>delfi</td>\n",
       "      <td>heineken</td>\n",
       "      <td>damm</td>\n",
       "    </tr>\n",
       "    <tr>\n",
       "      <th>14</th>\n",
       "      <td>0</td>\n",
       "      <td>0</td>\n",
       "      <td>delfi</td>\n",
       "      <td>damm</td>\n",
       "      <td>china</td>\n",
       "    </tr>\n",
       "    <tr>\n",
       "      <th>15</th>\n",
       "      <td>0</td>\n",
       "      <td>0</td>\n",
       "      <td>delfi</td>\n",
       "      <td>damm</td>\n",
       "      <td>cruzcampo</td>\n",
       "    </tr>\n",
       "    <tr>\n",
       "      <th>16</th>\n",
       "      <td>1</td>\n",
       "      <td>0</td>\n",
       "      <td>delfi</td>\n",
       "      <td>damm</td>\n",
       "      <td>galicia</td>\n",
       "    </tr>\n",
       "    <tr>\n",
       "      <th>17</th>\n",
       "      <td>1</td>\n",
       "      <td>1</td>\n",
       "      <td>delfi</td>\n",
       "      <td>galicia</td>\n",
       "      <td>china</td>\n",
       "    </tr>\n",
       "    <tr>\n",
       "      <th>18</th>\n",
       "      <td>1</td>\n",
       "      <td>0</td>\n",
       "      <td>delfi</td>\n",
       "      <td>galicia</td>\n",
       "      <td>cruzcampo</td>\n",
       "    </tr>\n",
       "    <tr>\n",
       "      <th>19</th>\n",
       "      <td>0</td>\n",
       "      <td>1</td>\n",
       "      <td>delfi</td>\n",
       "      <td>cruzcampo</td>\n",
       "      <td>china</td>\n",
       "    </tr>\n",
       "  </tbody>\n",
       "</table>\n",
       "</div>"
      ],
      "text/plain": [
       "    blind  seen   subj      beer1      beer2\n",
       "0       0     1   alba   heineken      china\n",
       "1       1     0   alba   heineken  cruzcampo\n",
       "2       1     0   alba   heineken    galicia\n",
       "3       1     1   alba   heineken       damm\n",
       "4       0     1   alba       damm      china\n",
       "5       1     1   alba       damm  cruzcampo\n",
       "6       0     1   alba       damm    galicia\n",
       "7       1     1   alba    galicia      china\n",
       "8       1     0   alba    galicia  cruzcampo\n",
       "9       1     1   alba  cruzcampo      china\n",
       "10      0     0  delfi   heineken      china\n",
       "11      0     0  delfi   heineken  cruzcampo\n",
       "12      0     0  delfi   heineken    galicia\n",
       "13      1     0  delfi   heineken       damm\n",
       "14      0     0  delfi       damm      china\n",
       "15      0     0  delfi       damm  cruzcampo\n",
       "16      1     0  delfi       damm    galicia\n",
       "17      1     1  delfi    galicia      china\n",
       "18      1     0  delfi    galicia  cruzcampo\n",
       "19      0     1  delfi  cruzcampo      china"
      ]
     },
     "execution_count": 334,
     "metadata": {},
     "output_type": "execute_result"
    }
   ],
   "source": [
    "### Random data\n",
    "\n",
    "N = 30\n",
    "\n",
    "a = np.random.randint(2, size=N*10)\n",
    "b = np.random.randint(2, size=N*10)\n",
    "\n",
    "df = pd.DataFrame({'blind':a, 'seen':b})\n",
    "\n",
    "subjects = ['alba', 'delfi', 'anna', 'sandra', 'david', 'mariona', 'rosa', 'joao', 'genis', 'albert', \n",
    "            'pedro', 'pili', 'alba', 'gerard', 'alegria', 'montse', 'josep', 'joaquin', 'pepe', 'isi',\n",
    "           'laura', 'marc', 'mire', 'sonia', 'ana', 'maria', 'eva', 'monica', 'camila', 'uri']\n",
    "\n",
    "b1 = ['heineken', 'heineken', 'heineken', 'heineken', 'damm', 'damm',   'damm',  'galicia',  'galicia',  'cruzcampo']\n",
    "b2 = ['china',    'cruzcampo', 'galicia',    'damm',   'china', 'cruzcampo', 'galicia', 'china', 'cruzcampo', 'china']\n",
    "\n",
    "subj_st = []\n",
    "#comb = []\n",
    "b1s = []\n",
    "b2s = []\n",
    "\n",
    "\n",
    "for s in subjects:\n",
    "    subj_st.append([ s for x in range(0,10)])\n",
    "    #comb.append([ str(i) for i in range(1,11)])    \n",
    "    b1s.append(b1)\n",
    "    b2s.append(b2)\n",
    "\n",
    "df['subj'] = list(itertools.chain.from_iterable(subj_st))\n",
    "#df['comb'] = list(itertools.chain.from_iterable(comb))\n",
    "df['beer1'] = list(itertools.chain.from_iterable(b1s))\n",
    "df['beer2'] = list(itertools.chain.from_iterable(b2s))\n",
    "\n",
    "df.head(20)"
   ]
  },
  {
   "cell_type": "markdown",
   "metadata": {},
   "source": [
    "# Stats"
   ]
  },
  {
   "cell_type": "markdown",
   "metadata": {},
   "source": [
    "## 1 Question: Are we consistent blind - seen?\n",
    "#### (subjet and group level)"
   ]
  },
  {
   "cell_type": "code",
   "execution_count": 335,
   "metadata": {
    "scrolled": false
   },
   "outputs": [
    {
     "name": "stderr",
     "output_type": "stream",
     "text": [
      "C:\\Users\\David\\Anaconda3\\envs\\python3\\lib\\site-packages\\seaborn\\categorical.py:3666: UserWarning: The `factorplot` function has been renamed to `catplot`. The original name will be removed in a future release. Please update your code. Note that the default `kind` in `factorplot` (`'point'`) has changed `'strip'` in `catplot`.\n",
      "  warnings.warn(msg)\n",
      "C:\\Users\\David\\Anaconda3\\envs\\python3\\lib\\site-packages\\seaborn\\categorical.py:3672: UserWarning: The `size` paramter has been renamed to `height`; please update your code.\n",
      "  warnings.warn(msg, UserWarning)\n",
      "C:\\Users\\David\\Anaconda3\\envs\\python3\\lib\\site-packages\\scipy\\stats\\stats.py:1713: FutureWarning: Using a non-tuple sequence for multidimensional indexing is deprecated; use `arr[tuple(seq)]` instead of `arr[seq]`. In the future this will be interpreted as an array index, `arr[np.array(seq)]`, which will result either in an error or a different result.\n",
      "  return np.add.reduce(sorted[indexer] * weights, axis=axis) / sumval\n"
     ]
    },
    {
     "data": {
      "image/png": "[encoded data removed]",
      "text/plain": [
       "<Figure size 720x720 with 1 Axes>"
      ]
     },
     "metadata": {},
     "output_type": "display_data"
    },
    {
     "name": "stdout",
     "output_type": "stream",
     "text": [
      "alba, consistency p_val = 0.503\n",
      "delfi, consistency p_val = 0.754\n",
      "anna, consistency p_val = 0.344\n",
      "sandra, consistency p_val = 0.109\n",
      "david, consistency p_val = 0.754\n",
      "mariona, consistency p_val = 1.0\n",
      "rosa, consistency p_val = 0.109\n",
      "joao, consistency p_val = 1.0\n",
      "genis, consistency p_val = 0.754\n",
      "albert, consistency p_val = 0.344\n",
      "pedro, consistency p_val = 0.754\n",
      "pili, consistency p_val = 0.754\n",
      "gerard, consistency p_val = 1.0\n",
      "alegria, consistency p_val = 0.754\n",
      "montse, consistency p_val = 0.021\n",
      "josep, consistency p_val = 1.0\n",
      "joaquin, consistency p_val = 1.0\n",
      "pepe, consistency p_val = 0.754\n",
      "isi, consistency p_val = 0.754\n",
      "laura, consistency p_val = 1.0\n",
      "marc, consistency p_val = 0.344\n",
      "mire, consistency p_val = 0.754\n",
      "sonia, consistency p_val = 1.0\n",
      "ana, consistency p_val = 0.754\n",
      "maria, consistency p_val = 1.0\n",
      "eva, consistency p_val = 0.344\n",
      "monica, consistency p_val = 0.754\n",
      "camila, consistency p_val = 0.754\n",
      "uri, consistency p_val = 0.754\n"
     ]
    }
   ],
   "source": [
    "##\n",
    "# column of consistency (1: you are consisten blind-seen, 0:not consistent)\n",
    "## 0.5 is chance level\n",
    "\n",
    "\n",
    "df['int'] = 1\n",
    "df['consistency'] = abs( df['blind'] - df['seen'] )\n",
    "\n",
    "## Subjcet consistency.\n",
    "g= sns.factorplot(x='subj', y='consistency', kind='bar', data=df, color='#fed9a6', size=10)\n",
    "g.set_xticklabels(rotation=30)\n",
    "plt.title('Consistency of subjects')\n",
    "plt.xlabel('subjects')\n",
    "plt.plot([0, len(df.subj.unique())-1], [0.5, 0.5], 'k--')\n",
    "plt.show(block=False)\n",
    "\n",
    "\n",
    "## Each subject\n",
    "for subj in df.subj.unique():\n",
    "    df_s = df.loc[df['subj'] == subj]\n",
    "    times_consistent = df_s.loc[df.consistency == 1, 'consistency'].count()\n",
    "    p_val = stats.binom_test(times_consistent, n=len(df_s), p=0.5, alternative='two-sided')\n",
    "    print( subj + ', consistency p_val = ' + str(round(p_val, 3)))\n"
   ]
  },
  {
   "cell_type": "code",
   "execution_count": 336,
   "metadata": {},
   "outputs": [
    {
     "name": "stderr",
     "output_type": "stream",
     "text": [
      "C:\\Users\\David\\Anaconda3\\envs\\python3\\lib\\site-packages\\seaborn\\categorical.py:3666: UserWarning: The `factorplot` function has been renamed to `catplot`. The original name will be removed in a future release. Please update your code. Note that the default `kind` in `factorplot` (`'point'`) has changed `'strip'` in `catplot`.\n",
      "  warnings.warn(msg)\n",
      "C:\\Users\\David\\Anaconda3\\envs\\python3\\lib\\site-packages\\scipy\\stats\\stats.py:1713: FutureWarning: Using a non-tuple sequence for multidimensional indexing is deprecated; use `arr[tuple(seq)]` instead of `arr[seq]`. In the future this will be interpreted as an array index, `arr[np.array(seq)]`, which will result either in an error or a different result.\n",
      "  return np.add.reduce(sorted[indexer] * weights, axis=axis) / sumval\n"
     ]
    },
    {
     "data": {
      "image/png": "[encoded data removed]",
      "text/plain": [
       "<Figure size 360x360 with 1 Axes>"
      ]
     },
     "metadata": {},
     "output_type": "display_data"
    },
    {
     "name": "stdout",
     "output_type": "stream",
     "text": [
      "Group consistency p_val = 0.773\n"
     ]
    }
   ],
   "source": [
    "## Population consistency\n",
    "## Subjcet consistency.\n",
    "sns.factorplot(x='int', y='consistency', kind='bar', data=df, color= '#decbe4')\n",
    "plt.plot([-1, 1], [0.5, 0.5], 'k--')\n",
    "plt.tick_params(axis='x',  which='both', bottom=False,  top=False,  labelbottom=False) \n",
    "plt.xlabel('group')\n",
    "plt.title('Consistency of group')\n",
    "plt.show(block=False)\n",
    "\n",
    "#As a group\n",
    "times_consistent = df.loc[df.consistency == 1, 'consistency'].count()\n",
    "p_val = stats.binom_test(times_consistent, n=len(df), p=0.5, alternative='two-sided')\n",
    "\n",
    "print( 'Group consistency p_val = ' + str(round(p_val, 3)))"
   ]
  },
  {
   "cell_type": "markdown",
   "metadata": {},
   "source": [
    "## 2. Are all beers the same?\n"
   ]
  },
  {
   "cell_type": "code",
   "execution_count": 354,
   "metadata": {
    "scrolled": false
   },
   "outputs": [
    {
     "data": {
      "image/png": "[encoded data removed]",
      "text/plain": [
       "<Figure size 504x288 with 1 Axes>"
      ]
     },
     "metadata": {},
     "output_type": "display_data"
    },
    {
     "name": "stdout",
     "output_type": "stream",
     "text": [
      "Objective Difference between beers p_val = 0.504\n",
      "Subjective Difference between beers p_val = 0.569\n"
     ]
    },
    {
     "data": {
      "text/html": [
       "<div>\n",
       "<style scoped>\n",
       "    .dataframe tbody tr th:only-of-type {\n",
       "        vertical-align: middle;\n",
       "    }\n",
       "\n",
       "    .dataframe tbody tr th {\n",
       "        vertical-align: top;\n",
       "    }\n",
       "\n",
       "    .dataframe thead th {\n",
       "        text-align: right;\n",
       "    }\n",
       "</style>\n",
       "<table border=\"1\" class=\"dataframe\">\n",
       "  <thead>\n",
       "    <tr style=\"text-align: right;\">\n",
       "      <th></th>\n",
       "      <th>beer</th>\n",
       "      <th>counts_b</th>\n",
       "      <th>counts_s</th>\n",
       "    </tr>\n",
       "  </thead>\n",
       "  <tbody>\n",
       "    <tr>\n",
       "      <th>4</th>\n",
       "      <td>china</td>\n",
       "      <td>54</td>\n",
       "      <td>71</td>\n",
       "    </tr>\n",
       "    <tr>\n",
       "      <th>1</th>\n",
       "      <td>cruzcampo</td>\n",
       "      <td>68</td>\n",
       "      <td>59</td>\n",
       "    </tr>\n",
       "    <tr>\n",
       "      <th>3</th>\n",
       "      <td>damm</td>\n",
       "      <td>66</td>\n",
       "      <td>58</td>\n",
       "    </tr>\n",
       "    <tr>\n",
       "      <th>2</th>\n",
       "      <td>galicia</td>\n",
       "      <td>60</td>\n",
       "      <td>53</td>\n",
       "    </tr>\n",
       "    <tr>\n",
       "      <th>0</th>\n",
       "      <td>heineken</td>\n",
       "      <td>52</td>\n",
       "      <td>59</td>\n",
       "    </tr>\n",
       "  </tbody>\n",
       "</table>\n",
       "</div>"
      ],
      "text/plain": [
       "        beer  counts_b  counts_s\n",
       "4      china        54        71\n",
       "1  cruzcampo        68        59\n",
       "3       damm        66        58\n",
       "2    galicia        60        53\n",
       "0   heineken        52        59"
      ]
     },
     "execution_count": 354,
     "metadata": {},
     "output_type": "execute_result"
    }
   ],
   "source": [
    "############\n",
    "############## rank of beers by number of winning situations\n",
    "############\n",
    "order_list = [ 'china', 'cruzcampo',  'damm',  'galicia', 'heineken' ]\n",
    "\n",
    "\n",
    "blind_win=[]\n",
    "seen_win=[]\n",
    "\n",
    "for i in range(0, len(df)):\n",
    "    ### blind\n",
    "    res = df['blind'].iloc[i]\n",
    "    if res == 0:\n",
    "        blind_win.append(  df['beer1'].iloc[i]  )\n",
    "    elif res==1:\n",
    "        blind_win.append(  df['beer2'].iloc[i]  )\n",
    "    \n",
    "    ### seen\n",
    "    res_s = df['seen'].iloc[i]\n",
    "    if res_s == 0:\n",
    "        seen_win.append(  df['beer1'].iloc[i]  )\n",
    "    elif res_s ==1:\n",
    "        seen_win.append(  df['beer2'].iloc[i]  )\n",
    "\n",
    "\n",
    "\n",
    "df['blind_win'] = blind_win\n",
    "df['seen_win'] = seen_win \n",
    "\n",
    "\n",
    "beers=[]\n",
    "counts_b=[]\n",
    "counts_s=[]\n",
    "for beer in df['blind_win'].unique():\n",
    "    beers.append(beer)\n",
    "    counts_b.append( df.loc[df.blind_win == beer, 'blind_win'].count())\n",
    "    counts_s.append( df.loc[df.seen_win == beer, 'seen_win'].count())\n",
    "\n",
    "\n",
    "##   \n",
    "df_b = pd.DataFrame({ 'beer':beers, 'counts': counts_b}) \n",
    "df_b['condition'] = 'blind'\n",
    "#\n",
    "df_s = pd.DataFrame({ 'beer':beers, 'counts': counts_s}) \n",
    "df_s['condition'] = 'seen'\n",
    "\n",
    "df_bs = pd.DataFrame({ 'beer':beers, 'counts_b': counts_b, 'counts_s': counts_s}) \n",
    "\n",
    "# df_b_s = pd.concat([df_b, df_s])\n",
    "# sns.factorplot(x='beer', y='counts', hue='condition', kind='bar', hue_order = ['blind', 'seen'], order=order_list, data=df_b_s)\n",
    "# plt.title('Beer score')\n",
    "# plt.show(block=False)\n",
    "\n",
    "#####\n",
    "\n",
    "width=0.4\n",
    "\n",
    "df_b['indx_plot']=df_b['beer'].copy()\n",
    "df_b['indx_plot'] = df_b['indx_plot'].replace(order_list, [0, 1, 2, 3, 4])\n",
    "\n",
    "df_s['indx_plot']=df_s['beer'].copy()\n",
    "df_s['indx_plot'] = df_s['indx_plot'].replace(order_list, [0 + width, 1 + width, 2+ width, 3+ width, 4+ width])\n",
    "\n",
    "\n",
    "Colors = ['#1f77b4', '#aec7e8', '#d62728', '#ff9896', '#bcbd22', '#dbdb8d', '#7f7f7f', '#c7c7c7', '#2ca02c', '#98df8a']\n",
    "\n",
    "df_merge=pd.concat([df_b, df_s])\n",
    "df_merge = df_merge.sort_values('beer')\n",
    "\n",
    "fig, ax = plt.subplots()\n",
    "fig.set_size_inches(7, 4)\n",
    "plt.bar(df_merge['indx_plot'],df_merge['counts'], color=Colors , width=width)\n",
    "plt.xticks( [width/2, 1.25-width/2, 2.25-width/2, 3.25-width/2, 4.25-width/2], order_list)\n",
    "ax.set_title('Beer score', fontsize=20, weight='demibold')\n",
    "#plt.title('Beer score')\n",
    "plt.xlabel('beer')\n",
    "plt.ylabel('score')\n",
    "plt.xlim(-width, 5)\n",
    "plt.ylim(0, 80)\n",
    "plt.bar(10,1, color='#7f7f7f', label='blind')\n",
    "plt.bar(10,1, color= '#c7c7c7', label='seen')\n",
    "plt.legend(frameon=False)\n",
    "\n",
    "plt.gca().spines['right'].set_visible(False)\n",
    "plt.gca().spines['top'].set_visible(False)\n",
    "plt.gca().get_xaxis().tick_bottom()\n",
    "plt.gca().get_yaxis().tick_left()\n",
    "plt.show()\n",
    "\n",
    "\n",
    "\n",
    "## Calculate all together with a Chi Square\n",
    "## If they are all the same, they should win 20% of the times each.\n",
    "\n",
    "f_obs = list(df_bs.counts_b)\n",
    "f_exp = [0.2*len(df) for i in range(0,5)]\n",
    "\n",
    "p_val = chisquare(f_obs, f_exp)[1]\n",
    "print( 'Objective Difference between beers p_val = ' + str(round(p_val, 3)))\n",
    "\n",
    "f_obs = list(df_bs.counts_s)\n",
    "f_exp = [0.2*len(df) for i in range(0,5)]\n",
    "\n",
    "p_val = chisquare(f_obs, f_exp)[1]\n",
    "print( 'Subjective Difference between beers p_val = ' + str(round(p_val, 3)))\n",
    "\n",
    "df_bs.sort_values('beer')\n"
   ]
  },
  {
   "cell_type": "markdown",
   "metadata": {},
   "source": [
    "### 2. 1 Is a beer objectively better or worse than chance?"
   ]
  },
  {
   "cell_type": "code",
   "execution_count": 338,
   "metadata": {},
   "outputs": [
    {
     "name": "stdout",
     "output_type": "stream",
     "text": [
      "heineken, blind p_val = 0.279\n",
      "cruzcampo, blind p_val = 0.248\n",
      "galicia, blind p_val = 1.0\n",
      "damm, blind p_val = 0.387\n",
      "china, blind p_val = 0.427\n"
     ]
    }
   ],
   "source": [
    "### Binomial test!\n",
    "\n",
    "##Option 1\n",
    "## Is Heineken better than the others?\n",
    "## I have 5 beers. If all are equally good, they should win 20% of the times each. By chance --> p=0.20\n",
    "## 30 people --> 300 tests \n",
    "#print(stats.binom_test(58, n=300, p=0.20, alternative='two-sided'))\n",
    "\n",
    "##Option 2\n",
    "## Is Heineken better than the others?\n",
    "## I have 5 beers. Heineken participated in 4*N = 4*30 subj = 120 tests 1vs 1.\n",
    "## If heinezen is better, p>0.5 --> p=0.5\n",
    "#print(stats.binom_test(58, n=120, p=0.5, alternative='two-sided'))\n",
    "\n",
    "####\n",
    "\n",
    "for beer in df_bs.beer.unique():\n",
    "    p_val = stats.binom_test( df_bs.loc[df_bs['beer']==beer, 'counts_b']  , n=len(df), p=0.20, alternative='two-sided')\n",
    "    print( beer + ', blind p_val = ' + str(round(p_val, 3)))\n",
    "\n",
    "\n"
   ]
  },
  {
   "cell_type": "markdown",
   "metadata": {},
   "source": [
    "### 2.2 Is a beer subjectively better or worse than chance?"
   ]
  },
  {
   "cell_type": "code",
   "execution_count": 339,
   "metadata": {},
   "outputs": [
    {
     "name": "stdout",
     "output_type": "stream",
     "text": [
      "heineken, seen p_val = 0.943\n",
      "cruzcampo, seen p_val = 0.943\n",
      "galicia, seen p_val = 0.348\n",
      "damm, seen p_val = 0.829\n",
      "china, seen p_val = 0.113\n"
     ]
    }
   ],
   "source": [
    "####\n",
    "\n",
    "for beer in df_bs.beer.unique():\n",
    "    p_val = stats.binom_test( df_bs.loc[df_bs['beer']==beer, 'counts_s']  , n=len(df), p=0.20, alternative='two-sided')\n",
    "    print( beer + ', seen p_val = ' + str(round(p_val, 3)))\n",
    "\n"
   ]
  },
  {
   "cell_type": "markdown",
   "metadata": {},
   "source": [
    "## 3. Is a beer socially over or under rated?\n",
    "### #Social overrating and underrating \n",
    "##### (+ is social overrating and - social underrating, 0 means social rating reflects reality)"
   ]
  },
  {
   "cell_type": "code",
   "execution_count": 340,
   "metadata": {},
   "outputs": [
    {
     "name": "stderr",
     "output_type": "stream",
     "text": [
      "C:\\Users\\David\\Anaconda3\\envs\\python3\\lib\\site-packages\\seaborn\\categorical.py:3666: UserWarning: The `factorplot` function has been renamed to `catplot`. The original name will be removed in a future release. Please update your code. Note that the default `kind` in `factorplot` (`'point'`) has changed `'strip'` in `catplot`.\n",
      "  warnings.warn(msg)\n"
     ]
    },
    {
     "data": {
      "image/png": "[encoded data removed]",
      "text/plain": [
       "<Figure size 360x360 with 1 Axes>"
      ]
     },
     "metadata": {},
     "output_type": "display_data"
    },
    {
     "data": {
      "text/html": [
       "<div>\n",
       "<style scoped>\n",
       "    .dataframe tbody tr th:only-of-type {\n",
       "        vertical-align: middle;\n",
       "    }\n",
       "\n",
       "    .dataframe tbody tr th {\n",
       "        vertical-align: top;\n",
       "    }\n",
       "\n",
       "    .dataframe thead th {\n",
       "        text-align: right;\n",
       "    }\n",
       "</style>\n",
       "<table border=\"1\" class=\"dataframe\">\n",
       "  <thead>\n",
       "    <tr style=\"text-align: right;\">\n",
       "      <th></th>\n",
       "      <th>beer</th>\n",
       "      <th>counts_b</th>\n",
       "      <th>counts_s</th>\n",
       "      <th>social_overrating</th>\n",
       "    </tr>\n",
       "  </thead>\n",
       "  <tbody>\n",
       "    <tr>\n",
       "      <th>4</th>\n",
       "      <td>china</td>\n",
       "      <td>54</td>\n",
       "      <td>71</td>\n",
       "      <td>-17</td>\n",
       "    </tr>\n",
       "    <tr>\n",
       "      <th>1</th>\n",
       "      <td>cruzcampo</td>\n",
       "      <td>68</td>\n",
       "      <td>59</td>\n",
       "      <td>9</td>\n",
       "    </tr>\n",
       "    <tr>\n",
       "      <th>3</th>\n",
       "      <td>damm</td>\n",
       "      <td>66</td>\n",
       "      <td>58</td>\n",
       "      <td>8</td>\n",
       "    </tr>\n",
       "    <tr>\n",
       "      <th>2</th>\n",
       "      <td>galicia</td>\n",
       "      <td>60</td>\n",
       "      <td>53</td>\n",
       "      <td>7</td>\n",
       "    </tr>\n",
       "    <tr>\n",
       "      <th>0</th>\n",
       "      <td>heineken</td>\n",
       "      <td>52</td>\n",
       "      <td>59</td>\n",
       "      <td>-7</td>\n",
       "    </tr>\n",
       "  </tbody>\n",
       "</table>\n",
       "</div>"
      ],
      "text/plain": [
       "        beer  counts_b  counts_s  social_overrating\n",
       "4      china        54        71                -17\n",
       "1  cruzcampo        68        59                  9\n",
       "3       damm        66        58                  8\n",
       "2    galicia        60        53                  7\n",
       "0   heineken        52        59                 -7"
      ]
     },
     "execution_count": 340,
     "metadata": {},
     "output_type": "execute_result"
    }
   ],
   "source": [
    "#####\n",
    "df_bs['social_overrating'] = df_bs['counts_b'] - df_bs['counts_s']\n",
    "\n",
    "Colors = ['#1f77b4',  '#d62728',  '#bcbd22',  '#7f7f7f',  '#2ca02c']\n",
    "sns.factorplot(x='beer', y='social_overrating', order=order_list, kind='bar', data=df_bs, palette=Colors)\n",
    "plt.title('Social over-under rating of beers') ## if +, the beer is socaily overrated. If -, it is socially underrated\n",
    "plt.show(block=False)\n",
    "\n",
    "df_bs.sort_values('beer')"
   ]
  },
  {
   "cell_type": "code",
   "execution_count": 341,
   "metadata": {},
   "outputs": [
    {
     "name": "stdout",
     "output_type": "stream",
     "text": [
      "heineken, seen p_val = 0.286\n",
      "cruzcampo, seen p_val = 0.241\n",
      "galicia, seen p_val = 0.348\n",
      "damm, seen p_val = 0.296\n",
      "china, seen p_val = 0.013\n"
     ]
    }
   ],
   "source": [
    "### It is the way to compare with itself\n",
    "#### Blind / N is the expected p\n",
    "#### Seen is the expected \n",
    "\n",
    "for beer in df_bs.beer.unique():\n",
    "    p_blind = df_bs.loc[df_bs['beer']==beer, 'counts_b']/len(df)\n",
    "    p_blind = p_blind.values[0]\n",
    "    f_seen = df_bs.loc[df_bs['beer']==beer, 'counts_s'].values[0]   \n",
    "    p_val = stats.binom_test( f_seen , n=len(df), p= p_blind, alternative='two-sided')\n",
    "    print( beer + ', seen p_val = ' + str(round(p_val, 3)))"
   ]
  },
  {
   "cell_type": "markdown",
   "metadata": {},
   "source": [
    "### Are we socially biased by brands?"
   ]
  },
  {
   "cell_type": "code",
   "execution_count": 342,
   "metadata": {},
   "outputs": [
    {
     "name": "stdout",
     "output_type": "stream",
     "text": [
      "Group brand bias p_val = 0.055\n"
     ]
    }
   ],
   "source": [
    "## Calculate all together with a Chi Square\n",
    "f_obs = list(df_bs.counts_s)\n",
    "f_exp = list(df_bs.counts_b)\n",
    "\n",
    "p_val = chisquare(f_obs, f_exp)[1]\n",
    "\n",
    "print( 'Group brand bias p_val = ' + str(round(p_val, 3)))"
   ]
  },
  {
   "cell_type": "code",
   "execution_count": null,
   "metadata": {},
   "outputs": [],
   "source": []
  }
 ],
 "metadata": {
  "kernelspec": {
   "display_name": "Python 3",
   "language": "python",
   "name": "python3"
  },
  "language_info": {
   "codemirror_mode": {
    "name": "ipython",
    "version": 3
   },
   "file_extension": ".py",
   "mimetype": "text/x-python",
   "name": "python",
   "nbconvert_exporter": "python",
   "pygments_lexer": "ipython3",
   "version": "3.5.6"
  }
 },
 "nbformat": 4,
 "nbformat_minor": 2
}

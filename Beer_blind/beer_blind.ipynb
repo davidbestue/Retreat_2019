{
 "cells": [
  {
   "cell_type": "code",
   "execution_count": 22,
   "metadata": {},
   "outputs": [],
   "source": [
    "#### Analysis beer competition\n",
    "import pandas as pd\n",
    "import numpy as np\n",
    "import itertools\n",
    "import matplotlib.pyplot as plt\n",
    "import seaborn as sns\n"
   ]
  },
  {
   "cell_type": "markdown",
   "metadata": {},
   "source": [
    "### Random data \n",
    "##### (here you should load the data of Joao)"
   ]
  },
  {
   "cell_type": "code",
   "execution_count": 23,
   "metadata": {},
   "outputs": [
    {
     "data": {
      "text/html": [
       "<div>\n",
       "<style scoped>\n",
       "    .dataframe tbody tr th:only-of-type {\n",
       "        vertical-align: middle;\n",
       "    }\n",
       "\n",
       "    .dataframe tbody tr th {\n",
       "        vertical-align: top;\n",
       "    }\n",
       "\n",
       "    .dataframe thead th {\n",
       "        text-align: right;\n",
       "    }\n",
       "</style>\n",
       "<table border=\"1\" class=\"dataframe\">\n",
       "  <thead>\n",
       "    <tr style=\"text-align: right;\">\n",
       "      <th></th>\n",
       "      <th>blind</th>\n",
       "      <th>seen</th>\n",
       "      <th>subj</th>\n",
       "      <th>comb</th>\n",
       "      <th>beer1</th>\n",
       "      <th>beer2</th>\n",
       "    </tr>\n",
       "  </thead>\n",
       "  <tbody>\n",
       "    <tr>\n",
       "      <th>0</th>\n",
       "      <td>1</td>\n",
       "      <td>0</td>\n",
       "      <td>alba</td>\n",
       "      <td>1</td>\n",
       "      <td>heineken</td>\n",
       "      <td>china</td>\n",
       "    </tr>\n",
       "    <tr>\n",
       "      <th>1</th>\n",
       "      <td>1</td>\n",
       "      <td>0</td>\n",
       "      <td>alba</td>\n",
       "      <td>2</td>\n",
       "      <td>heineken</td>\n",
       "      <td>cruzcampo</td>\n",
       "    </tr>\n",
       "    <tr>\n",
       "      <th>2</th>\n",
       "      <td>1</td>\n",
       "      <td>1</td>\n",
       "      <td>alba</td>\n",
       "      <td>3</td>\n",
       "      <td>heineken</td>\n",
       "      <td>e_gal</td>\n",
       "    </tr>\n",
       "    <tr>\n",
       "      <th>3</th>\n",
       "      <td>1</td>\n",
       "      <td>0</td>\n",
       "      <td>alba</td>\n",
       "      <td>4</td>\n",
       "      <td>heineken</td>\n",
       "      <td>e_dam</td>\n",
       "    </tr>\n",
       "    <tr>\n",
       "      <th>4</th>\n",
       "      <td>0</td>\n",
       "      <td>0</td>\n",
       "      <td>alba</td>\n",
       "      <td>5</td>\n",
       "      <td>e_dam</td>\n",
       "      <td>china</td>\n",
       "    </tr>\n",
       "    <tr>\n",
       "      <th>5</th>\n",
       "      <td>1</td>\n",
       "      <td>1</td>\n",
       "      <td>alba</td>\n",
       "      <td>6</td>\n",
       "      <td>e_dam</td>\n",
       "      <td>cruzcampo</td>\n",
       "    </tr>\n",
       "    <tr>\n",
       "      <th>6</th>\n",
       "      <td>1</td>\n",
       "      <td>0</td>\n",
       "      <td>alba</td>\n",
       "      <td>7</td>\n",
       "      <td>e_dam</td>\n",
       "      <td>e_gal</td>\n",
       "    </tr>\n",
       "    <tr>\n",
       "      <th>7</th>\n",
       "      <td>0</td>\n",
       "      <td>0</td>\n",
       "      <td>alba</td>\n",
       "      <td>8</td>\n",
       "      <td>e_gal</td>\n",
       "      <td>china</td>\n",
       "    </tr>\n",
       "    <tr>\n",
       "      <th>8</th>\n",
       "      <td>0</td>\n",
       "      <td>1</td>\n",
       "      <td>alba</td>\n",
       "      <td>9</td>\n",
       "      <td>e_gal</td>\n",
       "      <td>cruzcampo</td>\n",
       "    </tr>\n",
       "    <tr>\n",
       "      <th>9</th>\n",
       "      <td>0</td>\n",
       "      <td>1</td>\n",
       "      <td>alba</td>\n",
       "      <td>10</td>\n",
       "      <td>cruzcampo</td>\n",
       "      <td>china</td>\n",
       "    </tr>\n",
       "    <tr>\n",
       "      <th>10</th>\n",
       "      <td>1</td>\n",
       "      <td>0</td>\n",
       "      <td>delfi</td>\n",
       "      <td>1</td>\n",
       "      <td>heineken</td>\n",
       "      <td>china</td>\n",
       "    </tr>\n",
       "    <tr>\n",
       "      <th>11</th>\n",
       "      <td>0</td>\n",
       "      <td>1</td>\n",
       "      <td>delfi</td>\n",
       "      <td>2</td>\n",
       "      <td>heineken</td>\n",
       "      <td>cruzcampo</td>\n",
       "    </tr>\n",
       "    <tr>\n",
       "      <th>12</th>\n",
       "      <td>1</td>\n",
       "      <td>0</td>\n",
       "      <td>delfi</td>\n",
       "      <td>3</td>\n",
       "      <td>heineken</td>\n",
       "      <td>e_gal</td>\n",
       "    </tr>\n",
       "    <tr>\n",
       "      <th>13</th>\n",
       "      <td>0</td>\n",
       "      <td>0</td>\n",
       "      <td>delfi</td>\n",
       "      <td>4</td>\n",
       "      <td>heineken</td>\n",
       "      <td>e_dam</td>\n",
       "    </tr>\n",
       "    <tr>\n",
       "      <th>14</th>\n",
       "      <td>0</td>\n",
       "      <td>0</td>\n",
       "      <td>delfi</td>\n",
       "      <td>5</td>\n",
       "      <td>e_dam</td>\n",
       "      <td>china</td>\n",
       "    </tr>\n",
       "    <tr>\n",
       "      <th>15</th>\n",
       "      <td>1</td>\n",
       "      <td>0</td>\n",
       "      <td>delfi</td>\n",
       "      <td>6</td>\n",
       "      <td>e_dam</td>\n",
       "      <td>cruzcampo</td>\n",
       "    </tr>\n",
       "    <tr>\n",
       "      <th>16</th>\n",
       "      <td>1</td>\n",
       "      <td>1</td>\n",
       "      <td>delfi</td>\n",
       "      <td>7</td>\n",
       "      <td>e_dam</td>\n",
       "      <td>e_gal</td>\n",
       "    </tr>\n",
       "    <tr>\n",
       "      <th>17</th>\n",
       "      <td>1</td>\n",
       "      <td>0</td>\n",
       "      <td>delfi</td>\n",
       "      <td>8</td>\n",
       "      <td>e_gal</td>\n",
       "      <td>china</td>\n",
       "    </tr>\n",
       "    <tr>\n",
       "      <th>18</th>\n",
       "      <td>1</td>\n",
       "      <td>1</td>\n",
       "      <td>delfi</td>\n",
       "      <td>9</td>\n",
       "      <td>e_gal</td>\n",
       "      <td>cruzcampo</td>\n",
       "    </tr>\n",
       "    <tr>\n",
       "      <th>19</th>\n",
       "      <td>1</td>\n",
       "      <td>0</td>\n",
       "      <td>delfi</td>\n",
       "      <td>10</td>\n",
       "      <td>cruzcampo</td>\n",
       "      <td>china</td>\n",
       "    </tr>\n",
       "  </tbody>\n",
       "</table>\n",
       "</div>"
      ],
      "text/plain": [
       "    blind  seen   subj comb      beer1      beer2\n",
       "0       1     0   alba    1   heineken      china\n",
       "1       1     0   alba    2   heineken  cruzcampo\n",
       "2       1     1   alba    3   heineken      e_gal\n",
       "3       1     0   alba    4   heineken      e_dam\n",
       "4       0     0   alba    5      e_dam      china\n",
       "5       1     1   alba    6      e_dam  cruzcampo\n",
       "6       1     0   alba    7      e_dam      e_gal\n",
       "7       0     0   alba    8      e_gal      china\n",
       "8       0     1   alba    9      e_gal  cruzcampo\n",
       "9       0     1   alba   10  cruzcampo      china\n",
       "10      1     0  delfi    1   heineken      china\n",
       "11      0     1  delfi    2   heineken  cruzcampo\n",
       "12      1     0  delfi    3   heineken      e_gal\n",
       "13      0     0  delfi    4   heineken      e_dam\n",
       "14      0     0  delfi    5      e_dam      china\n",
       "15      1     0  delfi    6      e_dam  cruzcampo\n",
       "16      1     1  delfi    7      e_dam      e_gal\n",
       "17      1     0  delfi    8      e_gal      china\n",
       "18      1     1  delfi    9      e_gal  cruzcampo\n",
       "19      1     0  delfi   10  cruzcampo      china"
      ]
     },
     "execution_count": 23,
     "metadata": {},
     "output_type": "execute_result"
    }
   ],
   "source": [
    "### Random data\n",
    "a = np.random.randint(2, size=100)\n",
    "b = np.random.randint(2, size=100)\n",
    "\n",
    "df = pd.DataFrame({'blind':a, 'seen':b})\n",
    "\n",
    "subjects = ['alba', 'delfi', 'anna', 'sandra', 'david', 'mariona', 'rosa', 'joao', 'genis', 'albert']\n",
    "b1 = ['heineken', 'heineken', 'heineken', 'heineken', 'e_dam', 'e_dam',   'e_dam',  'e_gal',  'e_gal',  'cruzcampo']\n",
    "b2 = ['china',    'cruzcampo', 'e_gal',    'e_dam',   'china', 'cruzcampo', 'e_gal', 'china', 'cruzcampo', 'china']\n",
    "\n",
    "subj_st = []\n",
    "#comb = []\n",
    "b1s = []\n",
    "b2s = []\n",
    "\n",
    "\n",
    "for s in subjects:\n",
    "    subj_st.append([ s for x in range(0,10)])\n",
    "    #comb.append([ str(i) for i in range(1,11)])    \n",
    "    b1s.append(b1)\n",
    "    b2s.append(b2)\n",
    "\n",
    "df['subj'] = list(itertools.chain.from_iterable(subj_st))\n",
    "#df['comb'] = list(itertools.chain.from_iterable(comb))\n",
    "df['beer1'] = list(itertools.chain.from_iterable(b1s))\n",
    "df['beer2'] = list(itertools.chain.from_iterable(b2s))\n",
    "\n",
    "df.head(20)"
   ]
  },
  {
   "cell_type": "markdown",
   "metadata": {},
   "source": [
    "### Start of analysis"
   ]
  },
  {
   "cell_type": "code",
   "execution_count": 24,
   "metadata": {},
   "outputs": [],
   "source": [
    "### Consistency between blind and seen (subjet and group level)"
   ]
  },
  {
   "cell_type": "code",
   "execution_count": 34,
   "metadata": {
    "scrolled": true
   },
   "outputs": [
    {
     "name": "stderr",
     "output_type": "stream",
     "text": [
      "C:\\Users\\David\\Anaconda3\\envs\\python3\\lib\\site-packages\\seaborn\\categorical.py:3666: UserWarning: The `factorplot` function has been renamed to `catplot`. The original name will be removed in a future release. Please update your code. Note that the default `kind` in `factorplot` (`'point'`) has changed `'strip'` in `catplot`.\n",
      "  warnings.warn(msg)\n",
      "C:\\Users\\David\\Anaconda3\\envs\\python3\\lib\\site-packages\\scipy\\stats\\stats.py:1713: FutureWarning: Using a non-tuple sequence for multidimensional indexing is deprecated; use `arr[tuple(seq)]` instead of `arr[seq]`. In the future this will be interpreted as an array index, `arr[np.array(seq)]`, which will result either in an error or a different result.\n",
      "  return np.add.reduce(sorted[indexer] * weights, axis=axis) / sumval\n"
     ]
    },
    {
     "data": {
      "image/png": "[encoded data removed]",
      "text/plain": [
       "<Figure size 360x360 with 1 Axes>"
      ]
     },
     "metadata": {},
     "output_type": "display_data"
    },
    {
     "name": "stderr",
     "output_type": "stream",
     "text": [
      "C:\\Users\\David\\Anaconda3\\envs\\python3\\lib\\site-packages\\seaborn\\categorical.py:3666: UserWarning: The `factorplot` function has been renamed to `catplot`. The original name will be removed in a future release. Please update your code. Note that the default `kind` in `factorplot` (`'point'`) has changed `'strip'` in `catplot`.\n",
      "  warnings.warn(msg)\n"
     ]
    },
    {
     "data": {
      "image/png": "[encoded data removed]",
      "text/plain": [
       "<Figure size 360x360 with 1 Axes>"
      ]
     },
     "metadata": {},
     "output_type": "display_data"
    }
   ],
   "source": [
    "##\n",
    "# column of consistency (1: you are consisten blind-seen, 0:not consistent)\n",
    "## 0.5 is chance level\n",
    "\n",
    "\n",
    "df['int'] = 1\n",
    "df['consistency'] = abs( df['blind'] - df['seen'] )\n",
    "\n",
    "## Subjcet consistency.\n",
    "g= sns.factorplot(x='subj', y='consistency', kind='bar', data=df)\n",
    "g.set_xticklabels(rotation=30)\n",
    "plt.title('Consistency of subjects')\n",
    "plt.xlabel('subjects')\n",
    "plt.plot([0, len(df.subj.unique())-1], [0.5, 0.5], 'k--')\n",
    "plt.show(block=False)\n",
    "\n",
    "## Population consistency\n",
    "## Subjcet consistency.\n",
    "sns.factorplot(x='int', y='consistency', kind='bar', data=df)\n",
    "plt.plot([-1, 1], [0.5, 0.5], 'k--')\n",
    "plt.tick_params(axis='x',  which='both', bottom=False,  top=False,  labelbottom=False) \n",
    "plt.xlabel('group')\n",
    "plt.title('Consistency of group')\n",
    "plt.show(block=False)\n",
    "\n"
   ]
  },
  {
   "cell_type": "markdown",
   "metadata": {},
   "source": [
    "### Beer score"
   ]
  },
  {
   "cell_type": "code",
   "execution_count": 26,
   "metadata": {},
   "outputs": [
    {
     "name": "stderr",
     "output_type": "stream",
     "text": [
      "C:\\Users\\David\\Anaconda3\\envs\\python3\\lib\\site-packages\\seaborn\\categorical.py:3666: UserWarning: The `factorplot` function has been renamed to `catplot`. The original name will be removed in a future release. Please update your code. Note that the default `kind` in `factorplot` (`'point'`) has changed `'strip'` in `catplot`.\n",
      "  warnings.warn(msg)\n"
     ]
    },
    {
     "data": {
      "image/png": "[encoded data removed]",
      "text/plain": [
       "<Figure size 420.75x360 with 1 Axes>"
      ]
     },
     "metadata": {
      "needs_background": "light"
     },
     "output_type": "display_data"
    }
   ],
   "source": [
    "############\n",
    "############## rank of beers by number of winning situations\n",
    "############\n",
    "\n",
    "blind_win=[]\n",
    "seen_win=[]\n",
    "\n",
    "for i in range(0, len(df)):\n",
    "    ### blind\n",
    "    res = df['blind'].iloc[i]\n",
    "    if res == 0:\n",
    "        blind_win.append(  df['beer1'].iloc[i]  )\n",
    "    elif res==1:\n",
    "        blind_win.append(  df['beer2'].iloc[i]  )\n",
    "    \n",
    "    ### seen\n",
    "    res_s = df['seen'].iloc[i]\n",
    "    if res_s == 0:\n",
    "        seen_win.append(  df['beer1'].iloc[i]  )\n",
    "    elif res_s ==1:\n",
    "        seen_win.append(  df['beer2'].iloc[i]  )\n",
    "\n",
    "\n",
    "\n",
    "df['blind_win'] = blind_win\n",
    "df['seen_win'] = seen_win \n",
    "\n",
    "\n",
    "beers=[]\n",
    "counts_b=[]\n",
    "counts_s=[]\n",
    "for beer in df['blind_win'].unique():\n",
    "    beers.append(beer)\n",
    "    counts_b.append( df.loc[df.blind_win == beer, 'blind_win'].count())\n",
    "    counts_s.append( df.loc[df.seen_win == beer, 'seen_win'].count())\n",
    "\n",
    "\n",
    "##   \n",
    "df_b = pd.DataFrame({ 'beer':beers, 'counts': counts_b}) \n",
    "df_b['condition'] = 'blind'\n",
    "#\n",
    "df_s = pd.DataFrame({ 'beer':beers, 'counts': counts_s}) \n",
    "df_s['condition'] = 'seen'\n",
    "\n",
    "df_b_s = pd.concat([df_b, df_s])\n",
    "\n",
    "\n",
    "\n",
    "sns.factorplot(x='beer', y='counts', hue='condition', kind='bar', data=df_b_s)\n",
    "plt.title('Beer score')\n",
    "plt.show(block=False)"
   ]
  },
  {
   "cell_type": "markdown",
   "metadata": {},
   "source": [
    "## Social overrating and underrating \n",
    "##### (+ is social overrating and - social underrating, 0 means social rating reflects reality)"
   ]
  },
  {
   "cell_type": "code",
   "execution_count": 27,
   "metadata": {},
   "outputs": [
    {
     "name": "stderr",
     "output_type": "stream",
     "text": [
      "C:\\Users\\David\\Anaconda3\\envs\\python3\\lib\\site-packages\\seaborn\\categorical.py:3666: UserWarning: The `factorplot` function has been renamed to `catplot`. The original name will be removed in a future release. Please update your code. Note that the default `kind` in `factorplot` (`'point'`) has changed `'strip'` in `catplot`.\n",
      "  warnings.warn(msg)\n"
     ]
    },
    {
     "data": {
      "image/png": "[encoded data removed]",
      "text/plain": [
       "<Figure size 360x360 with 1 Axes>"
      ]
     },
     "metadata": {
      "needs_background": "light"
     },
     "output_type": "display_data"
    }
   ],
   "source": [
    "#####\n",
    "df_bs = pd.DataFrame({ 'beer':beers, 'counts_b': counts_b, 'counts_s': counts_s}) \n",
    "df_bs['social_overrating'] = df_bs['counts_b'] - df_bs['counts_s']\n",
    "\n",
    "\n",
    "sns.factorplot(x='beer', y='social_overrating', kind='bar', data=df_bs)\n",
    "plt.title('Social over-under rating of beers') ## if +, the beer is socaily overrated. If -, it is socially underrated\n",
    "plt.show(block=False)\n",
    "        "
   ]
  },
  {
   "cell_type": "code",
   "execution_count": null,
   "metadata": {},
   "outputs": [],
   "source": []
  }
 ],
 "metadata": {
  "kernelspec": {
   "display_name": "Python 3",
   "language": "python",
   "name": "python3"
  },
  "language_info": {
   "codemirror_mode": {
    "name": "ipython",
    "version": 3
   },
   "file_extension": ".py",
   "mimetype": "text/x-python",
   "name": "python",
   "nbconvert_exporter": "python",
   "pygments_lexer": "ipython3",
   "version": "3.5.6"
  }
 },
 "nbformat": 4,
 "nbformat_minor": 2
}
